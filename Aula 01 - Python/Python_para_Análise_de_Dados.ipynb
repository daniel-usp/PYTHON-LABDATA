{
  "nbformat": 4,
  "nbformat_minor": 0,
  "metadata": {
    "colab": {
      "provenance": [],
      "include_colab_link": true
    },
    "kernelspec": {
      "name": "python3",
      "display_name": "Python 3"
    },
    "language_info": {
      "name": "python"
    }
  },
  "cells": [
    {
      "cell_type": "markdown",
      "metadata": {
        "id": "view-in-github",
        "colab_type": "text"
      },
      "source": [
        "<a href=\"https://colab.research.google.com/github/daniel-usp/PYTHON-LABDATA/blob/main/Aula%2001%20-%20Python/Python_para_An%C3%A1lise_de_Dados.ipynb\" target=\"_parent\"><img src=\"https://colab.research.google.com/assets/colab-badge.svg\" alt=\"Open In Colab\"/></a>"
      ]
    },
    {
      "cell_type": "markdown",
      "source": [
        "# 😊🌟 Python para Análise de Dados 📚🐍\n",
        "\n",
        "### Prof. Daniel Bergmann 🎓\n",
        "\n",
        "Bem-vindos ao curso intensivo \"Aprendendo Python com Chat GPT\", criado pelo Prof. Daniel Bergmann. Este curso é projetado para fornecer uma compreensão generalizada da linguagem de programação Python, juntamente com a aplicação prática do ChatGPT para reforçar o aprendizado.\n",
        "\n",
        "## 1. Introdução 🚀\n",
        "\n",
        "- **Apresentação do Python:**\n",
        "  - 📜 História do Python.\n",
        "  - 💡 Importância no cenário tecnológico atual.\n",
        "  - 🛠 Uso com Colab.\n",
        "\n",
        "- **Introdução ao ChatGPT:**\n",
        "  - 🤖 Descrição e capacidades do ChatGPT.\n",
        "  - 🎓 Como o ChatGPT pode ser uma ferramenta de apoio no aprendizado de Python.\n",
        "\n",
        "## 2. Fundamentos do Python 📚\n",
        "\n",
        "- **Variáveis e Tipos de Dados:**\n",
        "  - 🔢 Exploração de variáveis e tipos de dados fundamentais.\n",
        "  - ➕ Realização de operações básicas com dados.\n",
        "\n",
        "## 3. Estruturas de Dados em Python 🗂\n",
        "\n",
        "- **Variáveis e Coleções:**\n",
        "  - 📝 Uso de strings, listas, dicionários, tuplas e conjuntos.\n",
        "  - ✂️ Métodos comuns para manipulação dessas estruturas.\n",
        "- **Estruturas de Controle de Fluxo:**\n",
        "  - 🔄 Uso de `if`, `for` e `while` para controle de fluxo.\n",
        "\n",
        "## 4. Funções em Python 🛠\n",
        "\n",
        "- **Criação e Uso de Funções:**\n",
        "  - 📐 Como definir e invocar funções.\n",
        "  - 🔄 Passagem de parâmetros e retorno de valores.\n",
        "\n",
        "- **Módulos e Bibliotecas:**\n",
        "  - 📦 Importação e utilização de módulos externos.\n",
        "  - 📚 Exploração de algumas bibliotecas padrão.\n",
        "\n",
        "## 5. Manipulação de Dados com Pandas 🐼\n",
        "\n",
        "- **Básico sobre Pandas:**\n",
        "  - 📊 Visão geral da biblioteca.\n",
        "  - 📈 Leitura, manipulação e análise básica de dados com Pandas.\n",
        "\n",
        "## 6. Visualização de Dados com Python 📉\n",
        "\n",
        "- **Bibliotecas de Visualização:**\n",
        "  - 🎨 Introdução ao Matplotlib e Seaborn.\n",
        "  - 📊 Criação de gráficos para análise de dados.\n"
      ],
      "metadata": {
        "id": "DH2KKEhOKTLd"
      }
    },
    {
      "cell_type": "markdown",
      "source": [
        "## <font color='blue'> Fundamentos de Python</font>\n"
      ],
      "metadata": {
        "id": "15lNwCCwF79v"
      }
    },
    {
      "cell_type": "code",
      "source": [
        "nome_do_aluno = \"João\" #variáveis sempre em lowercase separadas por _\n",
        "idade_do_aluno = 40 #inteira (número inteiro ou int)\n",
        "print(f\"Meu nome é {nome_do_aluno} e tenho {idade_do_aluno} anos\")\n",
        "\n"
      ],
      "metadata": {
        "id": "FrmZbggtIeU2",
        "outputId": "d873747b-d23e-4479-9965-4247902dec02",
        "colab": {
          "base_uri": "https://localhost:8080/"
        }
      },
      "execution_count": 4,
      "outputs": [
        {
          "output_type": "stream",
          "name": "stdout",
          "text": [
            "Meu nome é João e tenho 40 anos\n"
          ]
        },
        {
          "output_type": "execute_result",
          "data": {
            "text/plain": [
              "int"
            ]
          },
          "metadata": {},
          "execution_count": 4
        }
      ]
    },
    {
      "cell_type": "code",
      "source": [
        "# Função: calcular_iss\n",
        "# Objetivo: Calcular o valor do ISS (Imposto Sobre Serviços) sobre uma nota fiscal (valor_nf) de prestação de serviços.\n",
        "# Parâmetros:\n",
        "#   - valor_nf (float): Valor da nota fiscal (valor do serviço) sobre o qual o ISS será calculado.\n",
        "#   - iss (float, opcional): Taxa de ISS aplicada. O valor padrão é 9% (0.09). Pode ser ajustado conforme a necessidade.\n",
        "# Retorno:\n",
        "#   - float: O valor do ISS calculado com base na nota fiscal fornecida e na taxa de ISS.\n",
        "#\n",
        "# Exemplo de uso:\n",
        "#   >>> calcular_iss(5000)\n",
        "#   450.0\n",
        "# Nesse exemplo, a função calcula 9% sobre uma nota fiscal de R$5000, resultando em um imposto de R$450.\n",
        "\n",
        "def calcular_iss(valor_nf, iss=0.09):\n",
        "    \"\"\"\n",
        "    Calcula o valor do ISS (Imposto Sobre Serviços) sobre uma nota fiscal (valor_nf).\n",
        "\n",
        "    Parâmetros:\n",
        "    valor_nf (float): O valor da nota fiscal sobre o qual será aplicado o ISS.\n",
        "    iss (float, opcional): Percentual de ISS a ser aplicado, padrão de 9% (0.09).\n",
        "\n",
        "    Retorna:\n",
        "    float: O valor do ISS calculado.\n",
        "\n",
        "    Exemplo:\n",
        "    >>> calcular_iss(5000)\n",
        "    450.0\n",
        "    \"\"\"\n",
        "    imposto = valor_nf * iss\n",
        "    return imposto\n",
        "calcular_iss()\n"
      ],
      "metadata": {
        "id": "Z_uWVzAxREmx"
      },
      "execution_count": 29,
      "outputs": []
    },
    {
      "cell_type": "code",
      "source": [
        "#Cálculo do ISS de 9% para prestação de serviços de treinamento\n",
        "#treinamento = 5000\n",
        "#Crie uma função calcular_iss\n",
        "\n",
        "def calcular_iss(valor_nf, iss = 0.09):\n",
        "  imposto = valor_nf * iss\n",
        "  return imposto\n",
        "\n"
      ],
      "metadata": {
        "id": "HH4yN3qvO5d8",
        "outputId": "cae48891-d9d9-4245-e667-da1d2b8ab92b",
        "colab": {
          "base_uri": "https://localhost:8080/"
        }
      },
      "execution_count": 28,
      "outputs": [
        {
          "output_type": "execute_result",
          "data": {
            "text/plain": [
              "500.0"
            ]
          },
          "metadata": {},
          "execution_count": 28
        }
      ]
    },
    {
      "cell_type": "code",
      "source": [
        "#Calcule o desconto de 20% em cima de um preço de R$550,00\n",
        "preco = 550\n",
        "taxa_de_desconto = 0.20\n",
        "\n",
        "#desconto = preco * taxa_de_desconto\n",
        "#print(f\"O desconto obtido para o preço de R${preco:.2f} foi de {desconto:.2f}\")\n",
        "\n",
        "def calcular_desconto(preco, taxa_de_desconto):\n",
        "  desconto = preco * taxa_de_desconto\n",
        "  return print(f\"O desconto obtido foi de {desconto:.2f}\")\n",
        "\n",
        "\n",
        "\n",
        "\n",
        "\n"
      ],
      "metadata": {
        "id": "ApNMYIPELgHM"
      },
      "execution_count": 24,
      "outputs": []
    },
    {
      "cell_type": "code",
      "source": [
        "calcular_desconto(600,0.30)"
      ],
      "metadata": {
        "id": "Ku8fLBNTN35i",
        "outputId": "ef8eb6c9-afbf-46a4-fcb8-a8881b2d341f",
        "colab": {
          "base_uri": "https://localhost:8080/"
        }
      },
      "execution_count": 25,
      "outputs": [
        {
          "output_type": "stream",
          "name": "stdout",
          "text": [
            "O desconto obtido foi de 180.00\n"
          ]
        }
      ]
    },
    {
      "cell_type": "markdown",
      "source": [
        "# 📚 **Introdução às Variáveis em Python**\n",
        "\n",
        "### 📌 **O que é uma variável?**\n",
        "Uma variável é um nome que se refere a um valor. É como uma etiqueta que você coloca em uma caixa para saber o que tem dentro. Vamos ver alguns exemplos para entender melhor! 🧐\n",
        "\n",
        "```python\n",
        "# 📦 Variável 'mensagem' contendo um texto\n",
        "mensagem = \"Bem-vindo ao curso de Python!\"  # Aqui, estamos armazenando uma mensagem de boas-vindas.\n",
        "\n",
        "# 🔢 Variável 'numero' contendo um número inteiro\n",
        "numero = 7  # Neste caso, estamos armazenando o número 7.\n",
        "\n",
        "# 💲 Variável 'preco' contendo um número decimal (float)\n",
        "preco = 19.99  # Aqui, estamos armazenando o preço de um item, que é 19.99.\n",
        "\n",
        "# 📉 Calculando o desconto\n",
        "desconto = preco - preco * 0.10  # Estamos calculando um desconto de 10% no preço.\n",
        "desconto  # Exibindo o valor do desconto.\n"
      ],
      "metadata": {
        "id": "DBAaX56u40u1"
      }
    },
    {
      "cell_type": "markdown",
      "source": [
        "# 📚 **Explorando Tipos de Dados em Python**\n",
        "\n",
        "### 📌 **Tipos de Dados Principais**\n",
        "Python tem vários tipos de dados, mas os principais são números e strings. Vamos dar uma olhada mais de perto! 🔍\n",
        "\n",
        "```python\n",
        "# 🔢 Variável 'inteiro' contendo um número inteiro\n",
        "inteiro = 10  # Aqui, estamos armazenando o número 10.\n",
        "\n",
        "# 💧 Variável 'ponto_flutuante' contendo um número com ponto decimal\n",
        "ponto_flutuante = 10.5  # Aqui, estamos armazenando o número 10.5, que tem um ponto decimal.\n",
        "\n",
        "# 📝 Variável 'texto' contendo uma sequência de caracteres\n",
        "texto = \"Aprendendo Python é divertido!\"  # Aqui, estamos armazenando uma frase, que é chamada de string.\n"
      ],
      "metadata": {
        "id": "16_iGM7J42fC"
      }
    },
    {
      "cell_type": "code",
      "source": [
        "# Uma variável é um nome que se refere a um valor.\n",
        "mensagem = \"Bem-vindo ao curso de Python!\"  # Variável 'mensagem' contendo um texto\n",
        "numero = 7  # Variável 'numero' contendo um número inteiro\n",
        "preco = 19.99  # Variável 'preco' contendo um número decimal (float)\n",
        "\n",
        "desconto = preco - preco*0.10\n",
        "desconto\n"
      ],
      "metadata": {
        "id": "wRTDf55MKUDn",
        "colab": {
          "base_uri": "https://localhost:8080/"
        },
        "outputId": "0365efbb-24e9-4106-95a0-10c9d0b27f44"
      },
      "execution_count": null,
      "outputs": [
        {
          "output_type": "execute_result",
          "data": {
            "text/plain": [
              "17.991"
            ]
          },
          "metadata": {},
          "execution_count": 8
        }
      ]
    },
    {
      "cell_type": "markdown",
      "source": [
        "# 📚 **Explorando Tipos de Dados em Python**\n",
        "\n",
        "### 📌 **Tipos de Dados Principais**\n",
        "Python tem vários tipos de dados, mas os principais são números e strings. Vamos dar uma olhada mais de perto! 🔍\n",
        "\n",
        "```python\n",
        "# 🔢 Variável 'inteiro' contendo um número inteiro\n",
        "inteiro = 10  # Aqui, estamos armazenando o número 10.\n",
        "\n",
        "# 💧 Variável 'ponto_flutuante' contendo um número com ponto decimal\n",
        "ponto_flutuante = 10.5  # Aqui, estamos armazenando o número 10.5, que tem um ponto decimal.\n",
        "\n",
        "# 📝 Variável 'texto' contendo uma sequência de caracteres\n",
        "texto = \"Aprendendo Python é divertido!\"  # Aqui, estamos armazenando uma frase, que é chamada de string.\n"
      ],
      "metadata": {
        "id": "5-898voh5NpU"
      }
    },
    {
      "cell_type": "code",
      "source": [
        "# Python tem vários tipos de dados, mas os principais são números e strings.\n",
        "inteiro = 10  # Um número inteiro\n",
        "ponto_flutuante = 10.5  # Um número com ponto decimal\n",
        "texto = \"Aprendendo Python é divertido!\"  # Uma sequência de caracteres, chamada de string"
      ],
      "metadata": {
        "id": "wbtp-CAYG32m"
      },
      "execution_count": null,
      "outputs": []
    },
    {
      "cell_type": "markdown",
      "source": [
        "# 📚 **Usando Python como uma Calculadora**\n",
        "\n",
        "### 📌 **Operações Matemáticas Básicas**\n",
        "Python pode ser usado como uma calculadora simples. Vamos explorar as operações matemáticas básicas! 🔍\n",
        "\n",
        "```python\n",
        "# ➕ Variável 'soma' representando uma adição\n",
        "soma = 1 + 1  # Adicionando 1 e 1\n",
        "\n",
        "# ➖ Variável 'subtracao' representando uma subtração\n",
        "subtracao = 2 - 1  # Subtraindo 1 de 2\n",
        "\n",
        "# ✖️ Variável 'multiplicacao' representando uma multiplicação\n",
        "multiplicacao = 2 * 3  # Multiplicando 2 por 3\n",
        "\n",
        "# ➗ Variável 'divisao' representando uma divisão\n",
        "divisao = 10 / 2  # Dividindo 10 por 2\n",
        "\n",
        "# 🔢 Variável 'potenciacao' representando uma potenciação\n",
        "potenciacao = 10**4  # 10 elevado à potência 4\n",
        "\n",
        "# 🖨️ Imprimindo os resultados das operações\n",
        "print(soma, subtracao, multiplicacao, divisao, potenciacao)\n"
      ],
      "metadata": {
        "id": "hHaTH8oK5FCg"
      }
    },
    {
      "cell_type": "code",
      "source": [
        "# Python pode ser usado como uma calculadora simples.\n",
        "soma = 1 + 1  # Adição\n",
        "subtracao = 2 - 1  # Subtração\n",
        "multiplicacao = 2 * 3  # Multiplicação\n",
        "divisao = 10 / 2  # Divisão\n",
        "potenciacao = 10**4\n",
        "\n",
        "print(soma, subtracao, multiplicacao, divisao, potenciacao)"
      ],
      "metadata": {
        "id": "2YUte5EyHFAc",
        "colab": {
          "base_uri": "https://localhost:8080/"
        },
        "outputId": "61edb568-ec4c-41af-b2f7-0b9fbc716c0e"
      },
      "execution_count": 30,
      "outputs": [
        {
          "output_type": "stream",
          "name": "stdout",
          "text": [
            "2 1 6 5.0 10000\n"
          ]
        }
      ]
    },
    {
      "cell_type": "markdown",
      "source": [],
      "metadata": {
        "id": "ptTPTq1ySwi3"
      }
    },
    {
      "cell_type": "markdown",
      "source": [],
      "metadata": {
        "id": "A2TbwycySw67"
      }
    },
    {
      "cell_type": "code",
      "source": [
        "idade = int(input(\"Qual é o sua idade? \"))\n",
        "idade + 10"
      ],
      "metadata": {
        "id": "6hKosfqtSt6D",
        "outputId": "322b5d12-d820-46b3-dec1-671ea0696f37",
        "colab": {
          "base_uri": "https://localhost:8080/"
        }
      },
      "execution_count": 39,
      "outputs": [
        {
          "name": "stdout",
          "output_type": "stream",
          "text": [
            "Qual é o sua idade? 38\n"
          ]
        },
        {
          "output_type": "execute_result",
          "data": {
            "text/plain": [
              "48"
            ]
          },
          "metadata": {},
          "execution_count": 39
        }
      ]
    },
    {
      "cell_type": "markdown",
      "source": [
        "# 📚 **Interagindo com o Usuário em Python**\n",
        "\n",
        "### 📌 **Pedindo Informações ao Usuário**\n",
        "Podemos pedir ao usuário para inserir informações e então usar essas informações em nosso programa! Vamos ver como isso funciona! 🔍\n",
        "\n",
        "```python\n",
        "# 🖊️ Variável 'nome' recebendo a entrada do usuário\n",
        "nome = input(\"Qual é o seu nome? \")  # Pede ao usuário para digitar o seu nome\n",
        "\n",
        "# 👋 Imprimindo uma saudação personalizada\n",
        "print(\"Olá\", nome, \"!\")  # Exibe uma mensagem de saudação usando o nome fornecido pelo usuário\n"
      ],
      "metadata": {
        "id": "g9m4zuMd5VRl"
      }
    },
    {
      "cell_type": "code",
      "source": [
        "# Podemos pedir ao usuário para inserir informações.\n",
        "nome = input(\"Qual é o seu nome? \")  # Pede ao usuário para digitar o seu nome\n",
        "print(\"Olá\", nome,\"!\")\n"
      ],
      "metadata": {
        "id": "MGqFO-B_HLQZ",
        "colab": {
          "base_uri": "https://localhost:8080/"
        },
        "outputId": "ce5d336e-de62-4eeb-eb74-0b91612ebd47"
      },
      "execution_count": null,
      "outputs": [
        {
          "output_type": "stream",
          "name": "stdout",
          "text": [
            "Qual é o seu nome? Daniel\n",
            "Olá Daniel !\n"
          ]
        }
      ]
    },
    {
      "cell_type": "code",
      "source": [
        "nome = input(\"Qual é o seu nome? \")  # Pede ao usuário para digitar o seu nome\n",
        "idade = input(\"Qual é a sua idade? \")  # Pede ao usuário para digitar a sua idade\n",
        "# print(\"Olá\", nome, \"! Você tem\", idade, \"anos.\")\n",
        "print(f\"Olá {nome} !. Você têm {idade} anos. \")\n"
      ],
      "metadata": {
        "colab": {
          "base_uri": "https://localhost:8080/"
        },
        "id": "BC4VlOxKPAPZ",
        "outputId": "1d154fa7-3c2a-4c20-ca08-6fb80177e6f7"
      },
      "execution_count": 40,
      "outputs": [
        {
          "output_type": "stream",
          "name": "stdout",
          "text": [
            "Qual é o seu nome? Daniel\n",
            "Qual é a sua idade? 38\n",
            "Olá Daniel !. Você têm 38 anos. \n"
          ]
        }
      ]
    },
    {
      "cell_type": "code",
      "source": [
        "idade = float(input(\"Qual é sua idade?\"))\n",
        "\n",
        "idade + 10\n",
        "\n"
      ],
      "metadata": {
        "id": "qhafR3dJiGgD",
        "outputId": "817bea7a-ab98-403f-ec58-c66fbb976324",
        "colab": {
          "base_uri": "https://localhost:8080/"
        }
      },
      "execution_count": null,
      "outputs": [
        {
          "name": "stdout",
          "output_type": "stream",
          "text": [
            "Qual é sua idade?38\n"
          ]
        },
        {
          "output_type": "execute_result",
          "data": {
            "text/plain": [
              "48.0"
            ]
          },
          "metadata": {},
          "execution_count": 38
        }
      ]
    },
    {
      "cell_type": "code",
      "source": [
        "\n",
        "def roi(receita, custo):\n",
        "    lucro_percentual = ((receita - custo) / custo) * 100  # Calcula o percentual de lucro\n",
        "    return f\"{lucro_percentual:.2f}%\"  # Retorna o valor formatado com 2 casas decimais\n",
        "\n",
        "\n",
        "roi(60000, 10000)"
      ],
      "metadata": {
        "id": "ixw9ecDyUADA",
        "outputId": "ec589750-e040-4ca1-82e3-959c90ac3688",
        "colab": {
          "base_uri": "https://localhost:8080/",
          "height": 35
        }
      },
      "execution_count": 47,
      "outputs": [
        {
          "output_type": "execute_result",
          "data": {
            "text/plain": [
              "'500.00%'"
            ],
            "application/vnd.google.colaboratory.intrinsic+json": {
              "type": "string"
            }
          },
          "metadata": {},
          "execution_count": 47
        }
      ]
    },
    {
      "cell_type": "markdown",
      "source": [
        "# 📚 **Cálculo de ROI (Retorno sobre Investimento)**\n",
        "\n",
        "### 📌 **Calculando o ROI**\n",
        "O ROI (Retorno sobre Investimento) é uma métrica usada para avaliar a eficiência de um investimento. Vamos ver como calcular isso em Python! 🔍\n",
        "\n",
        "```python\n",
        "# 💰 Variável 'custo_inicial' para armazenar o custo inicial do projeto\n",
        "custo_inicial = 10000  # Exemplo de custo inicial do projeto\n",
        "\n",
        "# 💵 Variável 'receita_gerada' para armazenar a receita gerada pelo projeto\n",
        "receita_gerada = 30000  # Exemplo de receita gerada pelo projeto\n",
        "\n",
        "# 📈 Cálculo do ROI\n",
        "roi = ((receita_gerada - custo_inicial) / custo_inicial) * 100  # Fórmula do ROI\n",
        "\n",
        "# 🖨️ Imprimir o ROI do projeto\n",
        "print(f\"O ROI do projeto é de {roi:.2f}%\")  # Exibe o ROI formatado com duas casas decimais\n",
        "\n",
        "# 🧮 Função para calcular o ROI\n",
        "def calcular_roi(custo, receita):\n",
        "    return ((receita - custo) / custo) * 100\n",
        "\n",
        "# Exemplo de uso da função calcular_roi\n",
        "roi_funcao = calcular_roi(10000, 30000)\n",
        "print(f\"O ROI calculado pela função é de {roi_funcao:.2f}%\")  # Exibe o ROI calculado pela função\n"
      ],
      "metadata": {
        "id": "tB1dlQZ45gt9"
      }
    },
    {
      "cell_type": "code",
      "source": [
        "# Cálculo de ROI (Retorno sobre Investimento)\n",
        "custo_inicial = 10000  # Variável para armazenar o custo inicial do projeto\n",
        "receita_gerada = 30000  # Variável para armazenar a receita gerada pelo projeto\n",
        "\n",
        "roi = ((receita_gerada - custo_inicial) / custo_inicial)*100\n",
        "# Imprimir o ROI do projeto\n",
        "print(f\"O ROI do projeto é de {roi:.2f}%\")\n",
        "\n",
        "# Calcule uma função que determina o roi\n"
      ],
      "metadata": {
        "id": "fh_xQHySHad1",
        "colab": {
          "base_uri": "https://localhost:8080/"
        },
        "outputId": "8668deb9-66f7-482d-e142-79833760d2f4"
      },
      "execution_count": 48,
      "outputs": [
        {
          "output_type": "stream",
          "name": "stdout",
          "text": [
            "O ROI do projeto é de 200.00%\n"
          ]
        }
      ]
    },
    {
      "cell_type": "code",
      "source": [
        "#Calcular a margem bruta da venda de um celular\n",
        "venda = 10000\n",
        "custo = 4000\n",
        "\n",
        "def margem_bruta(venda, custo):\n",
        "  margem = ((venda - custo) / venda) * 100\n",
        "  return margem\n",
        "\n",
        "margem = margem_bruta(venda, custo)\n",
        "print(f\"A margem bruta do celular é de {margem:.2f}%\")\n"
      ],
      "metadata": {
        "id": "-og53azcVhW5",
        "outputId": "da4ddc7d-ce43-48ed-b702-dd0f00312348",
        "colab": {
          "base_uri": "https://localhost:8080/"
        }
      },
      "execution_count": 51,
      "outputs": [
        {
          "output_type": "stream",
          "name": "stdout",
          "text": [
            "A margem bruta do celular é de 60.00%\n"
          ]
        }
      ]
    },
    {
      "cell_type": "code",
      "source": [
        "#Venda de R$100.000 e uma meta de R$60.000\n",
        "#Imprimir se bateu ou não a meta\n",
        "\n",
        "venda_agosto = 40000\n",
        "meta = 60000\n",
        "\n",
        "def bateu_meta(venda, meta):\n",
        "  if venda >= meta:\n",
        "    print(\"Bateu a meta\")\n",
        "  else:\n",
        "    print(\"Não Bateu a meta\")\n",
        "\n",
        "bateu_meta(venda_agosto, meta)\n",
        "\n",
        "\n",
        "\n",
        "\n"
      ],
      "metadata": {
        "id": "pv-K8AHUW7Hp",
        "outputId": "fe794d1a-0c69-4cf9-8707-d47c93dc79a2",
        "colab": {
          "base_uri": "https://localhost:8080/"
        }
      },
      "execution_count": 59,
      "outputs": [
        {
          "output_type": "stream",
          "name": "stdout",
          "text": [
            "Não Bateu a meta\n"
          ]
        }
      ]
    },
    {
      "cell_type": "code",
      "source": [],
      "metadata": {
        "id": "ymDicZ3gaULc"
      },
      "execution_count": null,
      "outputs": []
    },
    {
      "cell_type": "code",
      "source": [
        "#Dado uma certa idade imprimir se pode ou não dirigir\n",
        "idade = 17\n",
        "\n",
        "#idade é variável\n",
        "#idade_do_condutor é parâmetro\n",
        "def pode_dirigir(idade_do_condutor):\n",
        "  if idade_do_condutor >= 18:\n",
        "    print(\"Pode dirigir\")\n",
        "  else:\n",
        "    print(\"Não pode dirigir\")\n",
        "\n",
        "print(idade)\n"
      ],
      "metadata": {
        "id": "ZJmDa2toY1aI",
        "outputId": "df15c71c-d8bb-41ca-d8d9-3b2c081da7f1",
        "colab": {
          "base_uri": "https://localhost:8080/"
        }
      },
      "execution_count": 67,
      "outputs": [
        {
          "output_type": "stream",
          "name": "stdout",
          "text": [
            "17\n"
          ]
        }
      ]
    },
    {
      "cell_type": "code",
      "source": [
        "def verificar_meta(meta, venda):\n",
        "    if venda >= meta:\n",
        "        return \"Bateu a meta\"\n",
        "    else:\n",
        "        return \"Não bateu a meta\"\n",
        "\n",
        "# Exemplo de uso\n",
        "meta = 50000\n",
        "venda = 100000\n",
        "\n",
        "status = verificar_meta(meta, venda)\n",
        "print(f\"Bateu ou não Meta: {status}\")\n"
      ],
      "metadata": {
        "id": "CYK1P7EAg--z",
        "outputId": "d6afe35e-1c67-4870-b3d2-77adc2534549",
        "colab": {
          "base_uri": "https://localhost:8080/"
        }
      },
      "execution_count": 68,
      "outputs": [
        {
          "output_type": "stream",
          "name": "stdout",
          "text": [
            "Bateu ou não Meta: Bateu a meta\n"
          ]
        }
      ]
    },
    {
      "cell_type": "markdown",
      "source": [
        "# 📚 **Cálculo de ROI (Retorno sobre Investimento)**\n",
        "\n",
        "### Definição da Função `calcular_roi` 🧮\n",
        "- **O que é uma função?**: Uma função é um bloco de código reutilizável que realiza uma tarefa específica. No Python, usamos a palavra-chave `def` para definir uma função.\n",
        "- **Nome da Função**: `calcular_roi` é o nome que demos à nossa função. Escolher um nome descritivo é importante para que o código seja fácil de entender.\n",
        "- **Parâmetros da Função**:\n",
        "    - `custo_inicial`: Este é o primeiro parâmetro da função e representa o custo inicial do investimento.\n",
        "    - `receita_gerada`: Este é o segundo parâmetro da função e representa a receita gerada pelo investimento.\n",
        "- **Docstring**:\n",
        "    - Uma docstring é uma string especial que descreve o que a função faz, seus parâmetros e o valor de retorno. É colocada logo após a definição da função, entre três aspas duplas.\n",
        "    - **Args**: Define os argumentos que a função aceita, com uma breve descrição de cada um.\n",
        "    - **Returns**: Descreve o valor de retorno da função.\n",
        "\n",
        "#### Cálculo do ROI 📈\n",
        "- Dentro da função, calculamos o ROI usando a fórmula:\n",
        "  ```python\n",
        "  roi = ((receita_gerada - custo_inicial) / custo_inicial) * 100\n",
        "\n"
      ],
      "metadata": {
        "id": "-vVel0Mn8IU-"
      }
    },
    {
      "cell_type": "code",
      "source": [
        "def calcular_roi(custo_inicial, receita_gerada):\n",
        "    roi = ((receita_gerada - custo_inicial) / custo_inicial) * 100\n",
        "    return roi\n",
        "\n",
        "# Exemplo de uso da função\n",
        "custo_inicial = 10000  # Variável para armazenar o custo inicial do projeto\n",
        "receita_gerada = 30000  # Variável para armazenar a receita gerada pelo projeto\n",
        "\n",
        "roi = calcular_roi(custo_inicial, receita_gerada)\n",
        "print(f\"O ROI do projeto é de {roi:.2f}%\")\n"
      ],
      "metadata": {
        "id": "QNeamwaokUPK",
        "outputId": "a8a6d197-7343-49a4-f9f2-29e909b4d66b",
        "colab": {
          "base_uri": "https://localhost:8080/"
        }
      },
      "execution_count": null,
      "outputs": [
        {
          "output_type": "stream",
          "name": "stdout",
          "text": [
            "O ROI do projeto é de 200.00%\n"
          ]
        }
      ]
    },
    {
      "cell_type": "code",
      "source": [
        "# Determinação do preço de venda com base na margem de lucro desejada\n",
        "custo_produto = 60  # Custo de aquisição ou produção\n",
        "margem_lucro = 0.4  # Margem de lucro desejada (20%)\n",
        "\n",
        "preco_venda = custo_produto * (1 + margem_lucro)\n",
        "print(f\"O preço de venda do produto deve ser: R$ {preco_venda:.2f}\")"
      ],
      "metadata": {
        "id": "FXl73kdlHtT1",
        "colab": {
          "base_uri": "https://localhost:8080/"
        },
        "outputId": "0f00225c-ba9f-43a9-a0cc-340f7d172eb3"
      },
      "execution_count": null,
      "outputs": [
        {
          "output_type": "stream",
          "name": "stdout",
          "text": [
            "O preço de venda do produto deve ser: R$ 84.00\n"
          ]
        }
      ]
    },
    {
      "cell_type": "code",
      "source": [
        "nome = \"Daniel\"\n",
        "sobrenome = \"Silva\"\n",
        "idade = 25\n",
        "\n",
        "#Meu nome é Daniel Silva e tenho 25 anos\n",
        "\n",
        "#criar uma função para saber se a pessoa é maior de idade\n",
        "\n"
      ],
      "metadata": {
        "id": "TXjBKJr1c4bc",
        "colab": {
          "base_uri": "https://localhost:8080/"
        },
        "outputId": "56c79479-ca67-4a32-8c3a-b5cc1066d0fe"
      },
      "execution_count": null,
      "outputs": [
        {
          "output_type": "stream",
          "name": "stdout",
          "text": [
            "Meu nome é Daniel Silva e tenho 25 anos.\n"
          ]
        }
      ]
    },
    {
      "cell_type": "code",
      "source": [
        "nome_aluno = \"Daniel\" #Pega \"Daniel\" e armazena na variável nome_aluno\n",
        "\n",
        "nome_cliente = \"daniel\"\n",
        "\n",
        "nome_aluno.upper() == nome_cliente.upper()\n",
        "\n"
      ],
      "metadata": {
        "id": "joc0-mmNi_Q4",
        "outputId": "7385f834-fc89-47f3-8be7-94850c30fd53",
        "colab": {
          "base_uri": "https://localhost:8080/",
          "height": 35
        }
      },
      "execution_count": 77,
      "outputs": [
        {
          "output_type": "execute_result",
          "data": {
            "text/plain": [
              "'aline'"
            ],
            "application/vnd.google.colaboratory.intrinsic+json": {
              "type": "string"
            }
          },
          "metadata": {},
          "execution_count": 77
        }
      ]
    },
    {
      "cell_type": "markdown",
      "source": [
        "#### O Método `.lower()` 🔤\n",
        "- **O que é?**: `.lower()` é um método em Python usado para converter todas as letras de uma string para minúsculas.\n",
        "- **Como usar?**: Você chama este método em uma string usando a notação de ponto, por exemplo, `\"Texto\".lower()`.\n",
        "- **Por que é útil?**: Converter texto para letras minúsculas pode ser útil quando você precisa comparar strings de forma insensível a maiúsculas e minúsculas.\n",
        "\n",
        "#### Exemplos de Uso:\n",
        "- `nome1 = \"Ana\".lower()`:\n",
        "  - **Original**: `\"Ana\"`\n",
        "  - **Convertido**: `\"ana\"`\n",
        "  - **Explicação**: A variável `nome1` agora contém a string `\"ana\"`, que é a versão em minúsculas de `\"Ana\"`.\n",
        "\n",
        "- `nome2 = \"ANA\".lower()`:\n",
        "  - **Original**: `\"ANA\"`\n",
        "  - **Convertido**: `\"ana\"`\n",
        "  - **Explicação**: A variável `nome2` agora contém a string `\"ana\"`, que é a versão em minúsculas de `\"ANA\"`.\n",
        "\n",
        "#### Comparação de Strings 🤔\n",
        "- `nome2 == nome1`:\n",
        "  - **O que faz?**: Compara se as strings `nome2` e `nome1` são iguais.\n",
        "  - **Resultado**: `True` se forem iguais, `False` se forem diferentes.\n",
        "  - **Explicação**: Neste caso, ambas as variáveis `nome2` e `nome1` contêm a string `\"ana\"`, então a comparação resultará em `True`.\n",
        "\n",
        "### 🧠 **Por que isso é fascinante?**\n",
        "- **Uniformidade**: Usar `.lower()` garante que o texto está em um formato consistente, facilitando comparações.\n",
        "- **Flexibilidade**: Você pode comparar strings de forma insensível a maiúsculas e minúsculas, útil em muitas situações como validação de entrada do usuário.\n",
        "\n",
        "Python torna a manipulação de texto prática e eficiente. Continue explorando! 🐍✨\n"
      ],
      "metadata": {
        "id": "2V_sPE7v6mSb"
      }
    },
    {
      "cell_type": "code",
      "source": [
        "nome1 = \"Ana\".lower() #colocar o texto em letras minúsculas\n",
        "nome2 = \"ANA\".lower()\n",
        "\n",
        "#nome2 == nome1\n",
        "\n",
        "nome2 == nome1\n"
      ],
      "metadata": {
        "id": "SO9V61UhliRZ",
        "outputId": "95e3c013-7f1b-4c52-f376-356c2ad14bbb",
        "colab": {
          "base_uri": "https://localhost:8080/"
        }
      },
      "execution_count": null,
      "outputs": [
        {
          "output_type": "execute_result",
          "data": {
            "text/plain": [
              "True"
            ]
          },
          "metadata": {},
          "execution_count": 55
        }
      ]
    },
    {
      "cell_type": "code",
      "source": [],
      "metadata": {
        "id": "Ltp3gcMWkJnk",
        "outputId": "736e55d9-8ebe-4707-990f-caae79aa5fed",
        "colab": {
          "base_uri": "https://localhost:8080/"
        }
      },
      "execution_count": 86,
      "outputs": [
        {
          "output_type": "execute_result",
          "data": {
            "text/plain": [
              "True"
            ]
          },
          "metadata": {},
          "execution_count": 86
        }
      ]
    },
    {
      "cell_type": "code",
      "source": [
        "# O script em Python a seguir verifica se a variável `nome` contém o nome \"Ana\".\n",
        "#Ele retorna True se \"Ana\" estiver presente e False caso contrário.\n",
        "\n",
        "# Variável com o nome\n",
        "nome = \"Ana\".lower()\n",
        "\n",
        "# Verifica se 'Ana' está no nome\n",
        "contem_ana = \"ANA\".lower() in nome\n",
        "\n",
        "# Exibe o resultado\n",
        "resultado = (nome == \"Ana\".lower())\n",
        "resultado"
      ],
      "metadata": {
        "id": "N7IWa2yWo8pM",
        "colab": {
          "base_uri": "https://localhost:8080/"
        },
        "outputId": "72d3bddb-bc0b-40ca-a7b9-701b14647753"
      },
      "execution_count": null,
      "outputs": [
        {
          "output_type": "execute_result",
          "data": {
            "text/plain": [
              "True"
            ]
          },
          "metadata": {},
          "execution_count": 32
        }
      ]
    },
    {
      "cell_type": "markdown",
      "source": [
        "# <font color='blue'> Operadores Lógicos</font>\n",
        "\n",
        "## Introdução\n",
        "Operadores lógicos são fundamentais na programação e na lógica de decisão em negócios. Eles permitem que tomemos decisões complexas baseadas em múltiplas condições. Vamos aprender sobre os principais operadores lógicos usando emojis para tornar nosso aprendizado mais divertido!\n",
        "\n",
        "## Operadores Lógicos\n",
        "\n",
        "### AND (E) - 🤝\n",
        "O operador `AND` retorna `True` se **ambas** as condições forem verdadeiras.\n",
        "- Exemplo: `(True 🤝 True) = True`\n",
        "- Exemplo em negócios: `(Cliente é confiável 🤝 Pedido é rentável) = True`\n",
        "\n",
        "### OR (OU) - 🤷\n",
        "O operador `OR` retorna `True` se **pelo menos uma** das condições for verdadeira.\n",
        "- Exemplo: `(True 🤷 False) = True`\n",
        "- Exemplo em negócios: `(Produto em estoque 🤷 Produto em promoção) = True`\n",
        "\n",
        "### NOT (NÃO) - 🚫\n",
        "O operador `NOT` inverte o valor da condição.\n",
        "- Exemplo: `(🚫 False) = True`\n",
        "- Exemplo em negócios: `(🚫 Cliente inadimplente) = Cliente adimplente`\n",
        "\n",
        "## Exercícios\n",
        "\n",
        "### Exercício 1\n",
        "Imagine que você é o gerente de uma loja e precisa decidir se abre ou não uma nova filial. A decisão deve ser baseada nas seguintes condições:\n",
        "- A região tem mais de 100.000 habitantes.\n",
        "- A concorrência na região é baixa.\n",
        "Use o operador lógico `AND` para decidir.\n",
        "\n",
        "```python\n",
        "populacao_regiao = 150000  # mais de 100.000 habitantes\n",
        "concorrencia_baixa = True  # concorrência é baixa\n",
        "\n",
        "# Insira seu código aqui\n",
        "decisao_abrir_filial = populacao_regiao > 100000 and concorrencia_baixa\n",
        "print(\"Decisão de abrir filial:\", decisao_abrir_filial)\n"
      ],
      "metadata": {
        "id": "GBfpi19ff731"
      }
    },
    {
      "cell_type": "code",
      "source": [
        "populacao = 200000\n",
        "concorrencia_baixa = False #Variável lógica ou booleana\n",
        "\n",
        "if (populacao > 100000) and (concorrencia_baixa):\n",
        "  print(\"Abre Filial\")\n",
        "else:\n",
        "  print(\"Não Abre Filial\")\n",
        ""
      ],
      "metadata": {
        "id": "FZ96MXI0lVWV",
        "outputId": "09ed1644-db5a-467f-a1aa-45b304d8ffad",
        "colab": {
          "base_uri": "https://localhost:8080/"
        }
      },
      "execution_count": 90,
      "outputs": [
        {
          "output_type": "stream",
          "name": "stdout",
          "text": [
            "Não Abre Filial\n"
          ]
        }
      ]
    },
    {
      "cell_type": "markdown",
      "source": [
        "\n",
        "\n"
      ],
      "metadata": {
        "id": "YHj4cmWH_Jj1"
      }
    },
    {
      "cell_type": "markdown",
      "source": [
        "#### O Operador Lógico `AND` 📝\n",
        "**O que é?**: O operador `AND` é usado em Python para combinar duas condições. Ambas as condições devem ser verdadeiras para que a expressão geral seja verdadeira.\n",
        "\n",
        "**Como usar?**: Você coloca o operador `AND` entre duas condições. Por exemplo, `condicao1 and condicao2`.\n",
        "\n",
        "**Por que é útil?**: O `AND` é útil para situações em que você precisa verificar se várias condições são verdadeiras ao mesmo tempo.\n",
        "\n",
        "#### Exemplos de Uso:\n",
        "- `populacao_regiao = 150000`\n",
        "  - **Condição**: `populacao_regiao > 100000`\n",
        "  - **Resultado**: `True` (150000 é maior que 100000)\n",
        "\n",
        "- `concorrencia_baixa = True`\n",
        "  - **Condição**: `concorrencia_baixa`\n",
        "  - **Resultado**: `True` (a concorrência é baixa)\n",
        "\n",
        "- **Combinação das Condições**:\n",
        "  - `populacao_regiao > 100000 and concorrencia_baixa`\n",
        "  - **Resultado**: `True` (ambas as condições são verdadeiras)\n",
        "\n",
        "#### Decisão de Abrir a Filial 🤔\n",
        "- `decisao_abrir_filial = populacao_regiao > 100000 and concorrencia_baixa`\n",
        "  - **O que faz?**: Verifica se a população da região é maior que 100000 e se a concorrência é baixa.\n",
        "  - **Resultado**: `True` se ambas as condições forem verdadeiras, `False` caso contrário.\n",
        "\n",
        "- `print(\"Decisão de abrir filial:\", decisao_abrir_filial)`\n",
        "  - **O que faz?**: Imprime a decisão de abrir a filial.\n",
        "  - **Explicação**: Neste caso, a decisão será `True` porque ambas as condições são verdadeiras.\n",
        "\n",
        "### 🧠 **Por que isso é fascinante?**\n",
        "**Lógica de Decisão**: Usar operadores lógicos como `AND` permite criar lógica de decisão complexa de forma simples e eficaz.\n",
        "\n",
        "**Automatização**: Automatizar decisões com base em condições facilita a gestão e a tomada de decisões em negócios.\n",
        "\n",
        "Python torna a programação prática e eficiente. Continue explorando! 🐍✨\n"
      ],
      "metadata": {
        "id": "97CMWw4B_daI"
      }
    },
    {
      "cell_type": "code",
      "source": [
        "populacao = 150000\n",
        "concorrencia_baixa = True\n",
        "\n",
        "abrir_filial = populacao > 100000 and concorrencia_baixa\n",
        "abrir_filial\n",
        "\n",
        "if populacao > 100000 and concorrencia_baixa:\n",
        "  print(\"abrir filial\")\n",
        "else:\n",
        "  print(\"não abrir filial\")"
      ],
      "metadata": {
        "colab": {
          "base_uri": "https://localhost:8080/"
        },
        "id": "JzltL5Ksnz9C",
        "outputId": "4353d3d8-539b-4eae-f21a-3038649f06a5"
      },
      "execution_count": null,
      "outputs": [
        {
          "output_type": "stream",
          "name": "stdout",
          "text": [
            "abrir filial\n"
          ]
        }
      ]
    },
    {
      "cell_type": "code",
      "source": [
        "populacao = 300000\n",
        "concorrencia_baixa = True\n",
        "\n",
        "abrir_filial = populacao > 100000 and concorrencia_baixa\n",
        "abrir_filial\n",
        "\n",
        "if abrir_filial:\n",
        "  print(\"Abre Filial\")\n",
        "else:\n",
        "  print(\"Não abre filial\")\n"
      ],
      "metadata": {
        "id": "AohQm-5NmrAM",
        "outputId": "736c07e2-0a98-4445-879c-7eb24507b97c",
        "colab": {
          "base_uri": "https://localhost:8080/"
        }
      },
      "execution_count": 92,
      "outputs": [
        {
          "output_type": "stream",
          "name": "stdout",
          "text": [
            "Abre Filial\n"
          ]
        }
      ]
    },
    {
      "cell_type": "code",
      "source": [
        "populacao_regiao = 150000  # mais de 100.000 habitantes\n",
        "concorrencia_baixa = True  # concorrência é baixa\n",
        "\n",
        "# Insira seu código aqui\n",
        "decisao_abrir_filial = populacao_regiao > 100000 and concorrencia_baixa\n",
        "print(\"Decisão de abrir filial:\", decisao_abrir_filial)"
      ],
      "metadata": {
        "colab": {
          "base_uri": "https://localhost:8080/"
        },
        "id": "Rd3rQL7ThTE2",
        "outputId": "1171747a-6586-429e-98a1-aead586899c3"
      },
      "execution_count": null,
      "outputs": [
        {
          "output_type": "stream",
          "name": "stdout",
          "text": [
            "Decisão de abrir filial: True\n"
          ]
        }
      ]
    },
    {
      "cell_type": "markdown",
      "source": [
        "## **Estruturas Condicionais `if/else`** 📝\n",
        "**O que são?**: As estruturas condicionais `if/else` são usadas em Python para tomar decisões com base em condições.\n",
        "\n",
        "**Como usar?**:\n",
        "- `if` verifica se uma condição é verdadeira. Se for, executa o bloco de código associado.\n",
        "- `else` é usado para executar um bloco de código alternativo se a condição do `if` for falsa.\n",
        "\n",
        "**Por que são úteis?**: As estruturas condicionais permitem que programas realizem diferentes ações com base em diferentes condições.\n",
        "\n",
        "#### Exemplos de Uso:\n",
        "- `populacao_regiao = 150000`\n",
        "  - **Condição**: `populacao_regiao > 100000`\n",
        "  - **Resultado**: `True` (150000 é maior que 100000)\n",
        "\n",
        "- `concorrencia_baixa = True`\n",
        "  - **Condição**: `concorrencia_baixa`\n",
        "  - **Resultado**: `True` (a concorrência é baixa)\n",
        "\n",
        "- **Combinação das Condições**:\n",
        "  - `populacao_regiao > 100000 and concorrencia_baixa`\n",
        "  - **Resultado**: `True` (ambas as condições são verdadeiras)\n",
        "\n",
        "#### Decisão de Abrir a Filial com `if/else` 🤔\n",
        "- `if decisao_abrir_filial:`:\n",
        "  - **O que faz?**: Verifica se a condição `decisao_abrir_filial` é verdadeira.\n",
        "  - **Resultado**: Se for verdadeira, imprime \"Abrir Filial\".\n",
        "\n",
        "- `else:`:\n",
        "  - **O que faz?**: Executa se a condição `decisao_abrir_filial` for falsa.\n",
        "  - **Resultado**: Se for falsa, imprime \"Não Abrir\".\n",
        "\n",
        "#### Código Completo:\n",
        "- **Condições e Cálculo**:\n",
        "  ```python\n",
        "  populacao_regiao = 150000\n",
        "  concorrencia_baixa = True\n",
        "  decisao_abrir_filial = populacao_regiao > 100000 and concorrencia_baixa\n"
      ],
      "metadata": {
        "id": "6NkwkrPX_2Tg"
      }
    },
    {
      "cell_type": "code",
      "source": [
        "populacao_regiao = 150000  # mais de 100.000 habitantes\n",
        "concorrencia_baixa = True  # concorrência é baixa\n",
        "\n",
        "# Calcula a decisão de abrir filial\n",
        "decisao_abrir_filial = populacao_regiao > 100000 and concorrencia_baixa\n",
        "\n",
        "# Imprime a decisão usando uma estrutura condicional\n",
        "if decisao_abrir_filial:\n",
        "    print(\"Abrir Filial\")\n",
        "else:\n",
        "    print(\"Não Abrir\")\n"
      ],
      "metadata": {
        "colab": {
          "base_uri": "https://localhost:8080/"
        },
        "id": "1JXKYPdnifOi",
        "outputId": "2844ab6f-4efc-4647-9eb3-3de176c00b19"
      },
      "execution_count": null,
      "outputs": [
        {
          "output_type": "stream",
          "name": "stdout",
          "text": [
            "Abrir Filial\n"
          ]
        }
      ]
    },
    {
      "cell_type": "code",
      "source": [
        "#Comparações Lógicas\n",
        "# > (maior), < (menor), >= (maior ou igual), <= (menor ou igual), == (igual) e != (diferente)\n",
        "\n",
        "# Verifique se o número 5 é maior do que 2\n",
        "resultado = (5 != 2) #Estou vendo se 5 é diferente de 2\n",
        "resultado\n",
        "\n"
      ],
      "metadata": {
        "id": "mABQJhtKptL1",
        "colab": {
          "base_uri": "https://localhost:8080/"
        },
        "outputId": "0e89b168-b32e-470d-8f21-944c489289b6"
      },
      "execution_count": null,
      "outputs": [
        {
          "output_type": "execute_result",
          "data": {
            "text/plain": [
              "True"
            ]
          },
          "metadata": {},
          "execution_count": 61
        }
      ]
    },
    {
      "cell_type": "code",
      "source": [
        "#Quero avaliar se a idade de um cliente é diferente de 40\n",
        "idade = 40\n",
        "idade != 40"
      ],
      "metadata": {
        "id": "gGuN0zjNnN0L",
        "outputId": "6c24b4bc-6bb4-4769-888f-c2cc6353b28f",
        "colab": {
          "base_uri": "https://localhost:8080/"
        }
      },
      "execution_count": 94,
      "outputs": [
        {
          "output_type": "execute_result",
          "data": {
            "text/plain": [
              "False"
            ]
          },
          "metadata": {},
          "execution_count": 94
        }
      ]
    },
    {
      "cell_type": "markdown",
      "source": [
        "## <font color='blue'> Estruturas de Dados</font>"
      ],
      "metadata": {
        "id": "2FZtCMVGcfRa"
      }
    },
    {
      "cell_type": "markdown",
      "source": [
        "# 📚 **Trabalhando com Listas em Python**\n",
        "\n",
        "### 📌 **O Que São Listas?**\n",
        "Listas são uma estrutura de dados fundamental em Python que permite armazenar múltiplos valores em uma única variável. Elas são mutáveis, o que significa que podem ser modificadas após a sua criação. Listas são extremamente úteis para organizar e manipular conjuntos de dados. 🔍\n",
        "\n",
        "```python\n",
        "vendas = [10, 20, 30, 33, 35, 45]  # Lista de vendas no semestre\n"
      ],
      "metadata": {
        "id": "nd0SZcS9AaU4"
      }
    },
    {
      "cell_type": "code",
      "source": [
        "import statistics\n",
        "vendas = [10, 20, 30, 33, 35, 40]\n",
        "\n",
        "media_das_vendas = statistics.mean(vendas)\n",
        "media_das_vendas\n",
        "\n",
        "#verifique se tem função nativa de média de uma lista\n"
      ],
      "metadata": {
        "id": "xSyJqv5fnq-h",
        "outputId": "9271bd4b-a478-484f-d9d9-8a555a369a7b",
        "colab": {
          "base_uri": "https://localhost:8080/"
        }
      },
      "execution_count": 104,
      "outputs": [
        {
          "output_type": "execute_result",
          "data": {
            "text/plain": [
              "28"
            ]
          },
          "metadata": {},
          "execution_count": 104
        }
      ]
    },
    {
      "cell_type": "markdown",
      "source": [
        "#### Definindo e Usando Listas 📝\n",
        "**O que são?**: Listas são coleções ordenadas de itens, que podem ser de tipos variados (inteiros, strings, etc.).\n",
        "\n",
        "**Como usar?**: Definimos uma lista usando colchetes `[]`, e os itens são separados por vírgulas.\n",
        "\n",
        "**Exemplo**:\n",
        "```python\n",
        "vendas = [10, 20, 30, 33, 35, 45]\n"
      ],
      "metadata": {
        "id": "IP2pfuIOAiLM"
      }
    },
    {
      "cell_type": "code",
      "source": [
        "vendas = [10,20,30,33,35,45]\n",
        "\n",
        "vendas_totais_no_semestre = sum(vendas)\n",
        "vendas_totais_no_semestre\n",
        "\n",
        "media_das_vendas = sum(vendas) / len(vendas)\n",
        "media_das_vendas\n",
        "\n",
        "#Calcular um função que determina a média das vendas\n",
        "\n",
        "\n",
        "def calcular_media_vendas(vendas):\n",
        "  return sum(vendas) / len(vendas)\n",
        "\n",
        "calcular_media_vendas(vendas)"
      ],
      "metadata": {
        "id": "fC2FfH2Cq0q5",
        "outputId": "89188cf7-c558-45be-a7c9-ed5b8dff6573",
        "colab": {
          "base_uri": "https://localhost:8080/"
        }
      },
      "execution_count": null,
      "outputs": [
        {
          "output_type": "execute_result",
          "data": {
            "text/plain": [
              "28.833333333333332"
            ]
          },
          "metadata": {},
          "execution_count": 66
        }
      ]
    },
    {
      "cell_type": "markdown",
      "source": [
        "### Listas: Cálculo de Receita Total 📊\n",
        "Você é um analista financeiro 💼 em uma startup e tem uma lista representando a receita mensal 💰 da empresa ao longo do ano. Em Python, as listas começam com o índice zero, então o primeiro elemento representa janeiro 📅, o segundo fevereiro, e assim por diante. Sua tarefa é calcular a receita total acumulada ao longo do ano.\n",
        "\n",
        "```python\n",
        "receitas = [1200, 1500, 1100, 1300, 1400, 2000, 1800, 1600, 1700, 1900, 2100, 2200]\n",
        "\n"
      ],
      "metadata": {
        "id": "8GaGGHbKZBkJ"
      }
    },
    {
      "cell_type": "code",
      "source": [
        "receitas = [1200, 1500, 1100, 1300, 1400, 2000, 1800, 1600, 1700, 1900, 2100, 2200]\n",
        "\n",
        "\n",
        "receitas[0:6]\n",
        "#receitas[i:j] #pegar do i-ésimo elemento até o j-ésimo - 1"
      ],
      "metadata": {
        "id": "13bHndg3poTK",
        "outputId": "1b7c2c52-5127-4230-c867-855798ab00ce",
        "colab": {
          "base_uri": "https://localhost:8080/"
        }
      },
      "execution_count": 117,
      "outputs": [
        {
          "output_type": "execute_result",
          "data": {
            "text/plain": [
              "[1200, 1500, 1100, 1300, 1400, 2000]"
            ]
          },
          "metadata": {},
          "execution_count": 117
        }
      ]
    },
    {
      "cell_type": "code",
      "source": [
        "#Lista de custos\n",
        "custos = [10, 23, 24, 26, 30, 44, 50]\n",
        "\n",
        "custos_primeiro_trim = custos[0:3]\n",
        "sum(custos_primeiro_trim)\n",
        "\n",
        "#custos[i:j] #Pega o i-ésimo elemento e percorre até o j-1\n",
        "\n",
        "#Montar uma lista com os custos 10, 24 e o 30"
      ],
      "metadata": {
        "id": "qBEKxbJqqqdU",
        "outputId": "3769d66e-4ac3-4d2f-ed92-07a05485a9dc",
        "colab": {
          "base_uri": "https://localhost:8080/"
        }
      },
      "execution_count": 118,
      "outputs": [
        {
          "output_type": "execute_result",
          "data": {
            "text/plain": [
              "57"
            ]
          },
          "metadata": {},
          "execution_count": 118
        }
      ]
    },
    {
      "cell_type": "code",
      "source": [
        "custos = [10,20,30,40,50,70] #Lista de valores\n",
        "\n",
        "#Dicionário ou \"Tabelas\"\n",
        "tabela_custos ={\"Jan\": 10, \"Fev\": 20, \"Mar\": 30, \"Abr\": 40, \"Mai\": 50, \"Jun\": 70}\n",
        "tabela_custos['Fev']\n"
      ],
      "metadata": {
        "id": "hAgtf6XIrw-Q",
        "outputId": "9ff5f99d-fe71-4dcc-d8d9-79d88bffb160",
        "colab": {
          "base_uri": "https://localhost:8080/"
        }
      },
      "execution_count": 121,
      "outputs": [
        {
          "output_type": "execute_result",
          "data": {
            "text/plain": [
              "20"
            ]
          },
          "metadata": {},
          "execution_count": 121
        }
      ]
    },
    {
      "cell_type": "code",
      "source": [
        "receitas = [1200, 1500, 1100, 1300, 1400, 2000, 1800, 1600, 1700, 1900, 2100, 2200]\n",
        "soma = sum(receitas)\n",
        "tamanho = len(receitas)\n",
        "\n",
        "media = soma / tamanho\n",
        "media"
      ],
      "metadata": {
        "colab": {
          "base_uri": "https://localhost:8080/"
        },
        "id": "oL4TIjEYUfqS",
        "outputId": "c01011cf-0164-42cd-fddf-fd1406af2a53"
      },
      "execution_count": 105,
      "outputs": [
        {
          "output_type": "execute_result",
          "data": {
            "text/plain": [
              "1650.0"
            ]
          },
          "metadata": {},
          "execution_count": 105
        }
      ]
    },
    {
      "cell_type": "code",
      "source": [
        "receitas = [1200, 1500, 1100, 1300, 1400, 2000, 1800, 1600, 1700, 1900, 2100, 2200]\n",
        "\n",
        "receitas_primeiro_semestre = receitas[:6] #Pegar os 6 primeiros\n",
        "receitas_segundo_semestre = receitas[6:] #Pegar os 6 últimos\n",
        "\n",
        "# é possivel testar se o acumulado do primeiro semestre é menor do que do segundo\n",
        "\n",
        "soma_primeiro_semestre = sum(receitas_primeiro_semestre)\n",
        "soma_segundo_semestre = sum(receitas_segundo_semestre)\n",
        "\n",
        "\n",
        "if (soma_segundo_semestre > soma_primeiro_semestre):\n",
        "  print(\"As vendas estão aumentando ao longo do ano\")\n",
        "else:\n",
        "  print(\"As vendas estão diminuindo ao longo do ano\")\n",
        "\n",
        "\n",
        "\n"
      ],
      "metadata": {
        "id": "DOzzJ2rQ1kEX",
        "outputId": "8f351a8a-7c08-43dd-fc3b-98cc12ade647",
        "colab": {
          "base_uri": "https://localhost:8080/"
        }
      },
      "execution_count": null,
      "outputs": [
        {
          "output_type": "stream",
          "name": "stdout",
          "text": [
            "As vendas estão aumentando ao longo do ano\n"
          ]
        }
      ]
    },
    {
      "cell_type": "code",
      "source": [
        "#Seleção em Listas\n",
        "custos = [1200, 1500, 1100, 1300, 1400, 2000, 1800, 1600, 1700, 1900, 2100, 2200]\n",
        "\n",
        "for custo in custos:\n",
        "  print(custo*2)\n",
        "\n"
      ],
      "metadata": {
        "colab": {
          "base_uri": "https://localhost:8080/"
        },
        "id": "pRpDuNZeXQkn",
        "outputId": "98ec7217-6b6e-4e47-9ab1-05dbc1999fbe"
      },
      "execution_count": null,
      "outputs": [
        {
          "output_type": "stream",
          "name": "stdout",
          "text": [
            "2400\n",
            "3000\n",
            "2200\n",
            "2600\n",
            "2800\n",
            "4000\n",
            "3600\n",
            "3200\n",
            "3400\n",
            "3800\n",
            "4200\n",
            "4400\n"
          ]
        }
      ]
    },
    {
      "cell_type": "code",
      "source": [
        "receitas = [1200, 1500, 1100, 1300, 1400, 2000, 1800, 1600, 1700, 1900, 2100, 2200]\n",
        "indices = [1, 3]\n",
        "\n",
        "# Usando compreensão de lista para selecionar elementos com base nos índices\n",
        "elementos_selecionados = [receitas[i] for i in indices]\n",
        "\n",
        "elementos_selecionados\n"
      ],
      "metadata": {
        "colab": {
          "base_uri": "https://localhost:8080/"
        },
        "id": "ZauzOuQkWcQZ",
        "outputId": "8c9b861a-b18b-4d9a-9a30-00def4ac6e5f"
      },
      "execution_count": null,
      "outputs": [
        {
          "output_type": "execute_result",
          "data": {
            "text/plain": [
              "[1500, 1300]"
            ]
          },
          "metadata": {},
          "execution_count": 5
        }
      ]
    },
    {
      "cell_type": "code",
      "source": [
        "idades = [18, 22, 15, 50]   #índices\n",
        "#         0   1   2   3\n",
        "#         0  -3  -2  -1\n",
        "\n",
        "idades[-1]\n",
        "\n",
        "# Lista de idades\n",
        "idades = [18, 22, 15, 50]\n",
        "\n",
        "# Pegando as idades 22 e 15 e armazenando em uma lista chamada clientes_premium\n",
        "clientes_premium = [idades[1], idades[2]]  # índices 1 e 2 correspondem a 22 e 15, respectivamente\n",
        "\n",
        "clientes_premium = idades[1:3]\n",
        "clientes_premium\n",
        "\n"
      ],
      "metadata": {
        "id": "DHUA_TkvdVlw",
        "colab": {
          "base_uri": "https://localhost:8080/"
        },
        "outputId": "d397cd92-042f-4be8-c4e1-9bdb5a81439b"
      },
      "execution_count": null,
      "outputs": [
        {
          "output_type": "execute_result",
          "data": {
            "text/plain": [
              "[22, 15]"
            ]
          },
          "metadata": {},
          "execution_count": 6
        }
      ]
    },
    {
      "cell_type": "code",
      "source": [
        "# Lista de idades\n",
        "idades = [18, 22, 15, 50]\n",
        "\n",
        "# Criando uma sublista com as duas maiores idades\n",
        "duas_maiores_idades = sorted(idades, reverse=True)[:2]\n",
        "\n",
        "duas_maiores_idades\n",
        "\n",
        "lista = sorted(idades,reverse = True)\n",
        "lista[:2]"
      ],
      "metadata": {
        "colab": {
          "base_uri": "https://localhost:8080/"
        },
        "id": "XgPxgnKGXlyI",
        "outputId": "d79e89fe-aee0-4861-982b-96316b90ce4b"
      },
      "execution_count": null,
      "outputs": [
        {
          "output_type": "execute_result",
          "data": {
            "text/plain": [
              "[50, 22]"
            ]
          },
          "metadata": {},
          "execution_count": 7
        }
      ]
    },
    {
      "cell_type": "markdown",
      "source": [
        "### Listas: Média de Vendas por Semestre 📈\n",
        "Como parte da equipe de análise 🕵️‍♂️ de uma empresa, você precisa calcular a média de vendas de cada semestre do ano. A lista `vendas` contém os valores de vendas mensais 💲. Lembre-se de que a contagem dos elementos da lista começa em zero.\n",
        "\n",
        "```python\n",
        "vendas = [14000, 15000, 16000, 14500, 14800, 15500, 14900, 15800, 15700, 16200, 16100, 15900]\n",
        "\n"
      ],
      "metadata": {
        "id": "dhpgybmaZq8a"
      }
    },
    {
      "cell_type": "code",
      "source": [
        "#Solução Média de Vendas por Semestre\n",
        "# Lista de vendas\n",
        "vendas = [14000, 15000, 16000, 14500, 14800, 15500, 14900, 15800, 15700, 16200, 16100, 15900]\n",
        "\n",
        "primeiro_semestre = vendas[:6]\n",
        "segundo_semestre = vendas[6:]\n",
        "\n",
        "# Calculando a média de vendas do primeiro semestre (Janeiro a Junho)\n",
        "media_primeiro_semestre = sum(primeiro_semestre) / len(primeiro_semestre)\n",
        "\n",
        "# Calculando a média de vendas do segundo semestre (Julho a Dezembro)\n",
        "media_segundo_semestre = sum(segundo_semestre) / len(segundo_semestre)\n",
        "\n",
        "media_primeiro_semestre, media_segundo_semestre\n",
        "\n"
      ],
      "metadata": {
        "id": "NFOpzvx5aAdw",
        "colab": {
          "base_uri": "https://localhost:8080/"
        },
        "outputId": "2ccc6b1a-6f56-44bc-ad20-11abf7806b22"
      },
      "execution_count": null,
      "outputs": [
        {
          "output_type": "execute_result",
          "data": {
            "text/plain": [
              "(14966.666666666666, 15766.666666666666)"
            ]
          },
          "metadata": {},
          "execution_count": 17
        }
      ]
    },
    {
      "cell_type": "markdown",
      "source": [
        "\n",
        "### Estruturas Condicionais: Análise de Orçamento de Marketing 💼📈\n",
        "Você é responsável pelo orçamento de marketing digital 📊 de sua empresa. Sua tarefa é decidir em qual rede social investir mais recursos 💰, baseando-se no número de leads gerados. Se o Instagram 📸 gerar mais leads do que o Facebook 👥, o investimento será maior no Instagram; caso contrário, será maior no Facebook.\n",
        "\n",
        "- **Leads do Instagram:** 120\n",
        "- **Leads do Facebook:** 150\n",
        "\n",
        "Escreva um programa em Python que utilize uma estrutura condicional (`if` e `else`) para comparar o número de leads gerados pelo Instagram e pelo Facebook. O programa deve imprimir qual rede social deve receber um orçamento maior para marketing 🚀.\n",
        "\n",
        "Este exercício tem como objetivo praticar o uso de lógica condicional em Python, aplicada a um cenário real de decisão de investimento em marketing digital 🌐.\n"
      ],
      "metadata": {
        "id": "OqU5cclP2uR2"
      }
    },
    {
      "cell_type": "code",
      "source": [
        "#Solução\n",
        "# Dados dos leads\n",
        "leads_instagram = 120\n",
        "leads_facebook = 250\n",
        "\n",
        "# Comparação usando estrutura condicional\n",
        "if (leads_instagram > leads_facebook) and (leads_instagram) > 100:\n",
        "  print(\"Investir mais no Instagram\")\n",
        "elif leads_facebook > 200:\n",
        "  print(\"Investir mais no facebook\")\n",
        "else:\n",
        "  print(\"Não investir em nenhum canal\")\n"
      ],
      "metadata": {
        "id": "GYjMyWMd3rRC",
        "colab": {
          "base_uri": "https://localhost:8080/"
        },
        "outputId": "64015446-54ea-42e3-982b-d3dc3f9fdf1b"
      },
      "execution_count": null,
      "outputs": [
        {
          "output_type": "stream",
          "name": "stdout",
          "text": [
            "Investir mais no facebook\n"
          ]
        }
      ]
    },
    {
      "cell_type": "markdown",
      "source": [
        "### Avaliação de Desempenho de Vendas com Bônus 📈💰\n",
        "Você está avaliando o desempenho das vendas da sua equipe 🏆. Se a equipe atingir ou superar a meta estabelecida, um bônus será concedido 💸. O bônus é calculado como 10% do valor total das vendas realizadas.\n",
        "\n",
        "- **Vendas realizadas:** 150.000\n",
        "- **Meta de vendas:** 100.000\n",
        "\n",
        "Calcule e exiba o valor do bônus se a meta de vendas for atingida 🎯.\n",
        "\n"
      ],
      "metadata": {
        "id": "FUspM9z34rsT"
      }
    },
    {
      "cell_type": "code",
      "source": [
        "#Estruturas Condicionais\n",
        "\n",
        "# Avaliação de desempenho de vendas\n",
        "vendas = 150000  # Valor total de vendas\n",
        "meta = 100000  # Meta de vendas\n",
        "#Bônus é de 10% das Vendas caso a meta atingida seja atingida\n",
        "\n",
        "# Valor total de vendas e a meta de vendas\n",
        "vendas = 150000\n",
        "meta = 100000\n",
        "\n",
        "# Verificar se a meta foi atingida\n",
        "if vendas >= meta:\n",
        "    bonus = vendas * 0.10  # Bônus é de 10% das vendas\n",
        "else:\n",
        "    bonus = 0  # Se a meta não for atingida, não há bônus\n",
        "\n",
        "print(f\"Bônus: {bonus:.0f}\")\n",
        "\n"
      ],
      "metadata": {
        "id": "ppXnE1p14Qfv",
        "colab": {
          "base_uri": "https://localhost:8080/"
        },
        "outputId": "98225fc7-a770-497d-8124-a8000bda3a7e"
      },
      "execution_count": null,
      "outputs": [
        {
          "output_type": "stream",
          "name": "stdout",
          "text": [
            "Bônus: 15000\n"
          ]
        }
      ]
    },
    {
      "cell_type": "code",
      "source": [
        "#Pedir a idade de uma pessoa e verificar se ela pode dirigir (acima de 18 anos)\n",
        "# Pedir a idade da pessoa\n",
        "idade = int(input(\"Qual é a sua idade? \"))\n",
        "\n",
        "# Verificar se a pessoa pode dirigir\n",
        "if idade >= 18:\n",
        "    print(\"Você pode dirigir.\")\n",
        "else:\n",
        "    print(\"Você ainda não pode dirigir.\")\n"
      ],
      "metadata": {
        "colab": {
          "base_uri": "https://localhost:8080/",
          "height": 365
        },
        "id": "IPjqhNa4fZJo",
        "outputId": "d1f0731d-4c8c-4792-dcfe-f7f5ea8e5509"
      },
      "execution_count": null,
      "outputs": [
        {
          "output_type": "error",
          "ename": "KeyboardInterrupt",
          "evalue": "Interrupted by user",
          "traceback": [
            "\u001b[0;31m---------------------------------------------------------------------------\u001b[0m",
            "\u001b[0;31mKeyboardInterrupt\u001b[0m                         Traceback (most recent call last)",
            "\u001b[0;32m<ipython-input-12-a73d157effee>\u001b[0m in \u001b[0;36m<cell line: 3>\u001b[0;34m()\u001b[0m\n\u001b[1;32m      1\u001b[0m \u001b[0;31m#Pedir a idade de uma pessoa e verificar se ela pode dirigir (acima de 18 anos)\u001b[0m\u001b[0;34m\u001b[0m\u001b[0;34m\u001b[0m\u001b[0m\n\u001b[1;32m      2\u001b[0m \u001b[0;31m# Pedir a idade da pessoa\u001b[0m\u001b[0;34m\u001b[0m\u001b[0;34m\u001b[0m\u001b[0m\n\u001b[0;32m----> 3\u001b[0;31m \u001b[0midade\u001b[0m \u001b[0;34m=\u001b[0m \u001b[0mint\u001b[0m\u001b[0;34m(\u001b[0m\u001b[0minput\u001b[0m\u001b[0;34m(\u001b[0m\u001b[0;34m\"Qual é a sua idade? \"\u001b[0m\u001b[0;34m)\u001b[0m\u001b[0;34m)\u001b[0m\u001b[0;34m\u001b[0m\u001b[0;34m\u001b[0m\u001b[0m\n\u001b[0m\u001b[1;32m      4\u001b[0m \u001b[0;34m\u001b[0m\u001b[0m\n\u001b[1;32m      5\u001b[0m \u001b[0;31m# Verificar se a pessoa pode dirigir\u001b[0m\u001b[0;34m\u001b[0m\u001b[0;34m\u001b[0m\u001b[0m\n",
            "\u001b[0;32m/usr/local/lib/python3.10/dist-packages/ipykernel/kernelbase.py\u001b[0m in \u001b[0;36mraw_input\u001b[0;34m(self, prompt)\u001b[0m\n\u001b[1;32m    849\u001b[0m                 \u001b[0;34m\"raw_input was called, but this frontend does not support input requests.\"\u001b[0m\u001b[0;34m\u001b[0m\u001b[0;34m\u001b[0m\u001b[0m\n\u001b[1;32m    850\u001b[0m             )\n\u001b[0;32m--> 851\u001b[0;31m         return self._input_request(str(prompt),\n\u001b[0m\u001b[1;32m    852\u001b[0m             \u001b[0mself\u001b[0m\u001b[0;34m.\u001b[0m\u001b[0m_parent_ident\u001b[0m\u001b[0;34m,\u001b[0m\u001b[0;34m\u001b[0m\u001b[0;34m\u001b[0m\u001b[0m\n\u001b[1;32m    853\u001b[0m             \u001b[0mself\u001b[0m\u001b[0;34m.\u001b[0m\u001b[0m_parent_header\u001b[0m\u001b[0;34m,\u001b[0m\u001b[0;34m\u001b[0m\u001b[0;34m\u001b[0m\u001b[0m\n",
            "\u001b[0;32m/usr/local/lib/python3.10/dist-packages/ipykernel/kernelbase.py\u001b[0m in \u001b[0;36m_input_request\u001b[0;34m(self, prompt, ident, parent, password)\u001b[0m\n\u001b[1;32m    893\u001b[0m             \u001b[0;32mexcept\u001b[0m \u001b[0mKeyboardInterrupt\u001b[0m\u001b[0;34m:\u001b[0m\u001b[0;34m\u001b[0m\u001b[0;34m\u001b[0m\u001b[0m\n\u001b[1;32m    894\u001b[0m                 \u001b[0;31m# re-raise KeyboardInterrupt, to truncate traceback\u001b[0m\u001b[0;34m\u001b[0m\u001b[0;34m\u001b[0m\u001b[0m\n\u001b[0;32m--> 895\u001b[0;31m                 \u001b[0;32mraise\u001b[0m \u001b[0mKeyboardInterrupt\u001b[0m\u001b[0;34m(\u001b[0m\u001b[0;34m\"Interrupted by user\"\u001b[0m\u001b[0;34m)\u001b[0m \u001b[0;32mfrom\u001b[0m \u001b[0;32mNone\u001b[0m\u001b[0;34m\u001b[0m\u001b[0;34m\u001b[0m\u001b[0m\n\u001b[0m\u001b[1;32m    896\u001b[0m             \u001b[0;32mexcept\u001b[0m \u001b[0mException\u001b[0m \u001b[0;32mas\u001b[0m \u001b[0me\u001b[0m\u001b[0;34m:\u001b[0m\u001b[0;34m\u001b[0m\u001b[0;34m\u001b[0m\u001b[0m\n\u001b[1;32m    897\u001b[0m                 \u001b[0mself\u001b[0m\u001b[0;34m.\u001b[0m\u001b[0mlog\u001b[0m\u001b[0;34m.\u001b[0m\u001b[0mwarning\u001b[0m\u001b[0;34m(\u001b[0m\u001b[0;34m\"Invalid Message:\"\u001b[0m\u001b[0;34m,\u001b[0m \u001b[0mexc_info\u001b[0m\u001b[0;34m=\u001b[0m\u001b[0;32mTrue\u001b[0m\u001b[0;34m)\u001b[0m\u001b[0;34m\u001b[0m\u001b[0;34m\u001b[0m\u001b[0m\n",
            "\u001b[0;31mKeyboardInterrupt\u001b[0m: Interrupted by user"
          ]
        }
      ]
    },
    {
      "cell_type": "markdown",
      "source": [
        "### Laços com for: Vendas de iPhones 📱\n",
        "Você está gerenciando as vendas de uma loja de eletrônicos 🏬 e precisa acompanhar o número de iPhones vendidos em diferentes cidades do estado de São Paulo. Para isso, você tem uma lista que representa o número de iPhones vendidos em cada cidade.\n",
        "\n",
        "Escreva um programa em Python que use um loop for para percorrer a lista `vendas_iphones`. Calcule e imprima o total de iPhones vendidos em todas as cidades juntas 🌐.\n"
      ],
      "metadata": {
        "id": "u4l_8DdkAjRk"
      }
    },
    {
      "cell_type": "code",
      "source": [
        "#Loop com for\n",
        "vendas_iphones = [120, 80, 50, 60]  # Representando vendas em São Paulo, Campinas, Santos, Sorocaba, respectivamente\n",
        "\n",
        "\n"
      ],
      "metadata": {
        "id": "93khlXLh2Sh_"
      },
      "execution_count": null,
      "outputs": []
    },
    {
      "cell_type": "code",
      "source": [
        "# Exercício - Otimização de Estoques\n",
        "# Você é o gerente de estoque de uma rede de varejo. Seu objetivo é identificar produtos com baixa rotatividade e sugerir descontos.\n",
        "# Dada uma lista de produtos, suas quantidades em estoque e vendas mensais, identifique os produtos com mais de 3 meses de estoque baseado na venda média mensal.\n",
        "\n",
        "produtos = [\"Produto A\", \"Produto B\", \"Produto C\", \"Produto D\"]\n",
        "estoque = [300, 150, 50, 200]\n",
        "vendas_mensais = [30, 50, 20, 10]\n",
        "\n",
        "# Identificar produtos com baixa rotatividade\n",
        "baixa_rotatividade = []\n",
        "\n",
        "for produto, qty, vendas in zip(produtos, estoque, vendas_mensais):\n",
        "    if qty / vendas > 3:\n",
        "        baixa_rotatividade.append(produto)\n",
        "\n",
        "baixa_rotatividade\n"
      ],
      "metadata": {
        "id": "OfQ2wXlI88kP"
      },
      "execution_count": null,
      "outputs": []
    },
    {
      "cell_type": "code",
      "source": [],
      "metadata": {
        "id": "RUs-QCjo6MS6"
      },
      "execution_count": null,
      "outputs": []
    },
    {
      "cell_type": "markdown",
      "source": [
        "### Laços com for: Preços com Desconto 💸\n",
        "Você possui uma lista de preços de produtos 💰 em reais e deseja aplicar um desconto de 10% em cada um deles. Use um loop for para iterar através da lista de preços, aplique o desconto e imprima o novo preço com desconto de cada produto 🛍️.\n"
      ],
      "metadata": {
        "id": "mcCIzBq5QXXP"
      }
    },
    {
      "cell_type": "code",
      "source": [
        "# Lista de preços original\n",
        "precos = [100, 200, 300, 400, 500]\n",
        "\n",
        "#Para cada elemento preço, imprima-o\n",
        "for preco in precos:\n",
        "  print(preco)\n",
        "\n",
        "#List Comprehension\n",
        "precos_com_desconto = [preco - preco*0.10 for preco in precos]\n",
        "#imprima os preços da lista acima com o loop for\n",
        "precos_com_desconto[0]\n"
      ],
      "metadata": {
        "id": "dTtrV3gZuIdC"
      },
      "execution_count": null,
      "outputs": []
    },
    {
      "cell_type": "code",
      "source": [
        "# Lista de preços original\n",
        "precos = [100, 200, 300, 400, 500]\n",
        "\n",
        "# List Comprehension para calcular os preços com desconto de 20%\n",
        "precos_com_desconto = [preco * 0.8 for preco in precos]\n",
        "\n",
        "precos_com_desconto\n"
      ],
      "metadata": {
        "id": "SUjPwVMAxkmO"
      },
      "execution_count": null,
      "outputs": []
    },
    {
      "cell_type": "code",
      "source": [
        "#Dicionários\n",
        "vendas = {'Iphone': 100, 'Macbook': 20, 'iPad': 30}\n",
        "\n",
        "for produto, venda in vendas.items():\n",
        "  print(produto, venda)"
      ],
      "metadata": {
        "id": "pAKqCtK0xrsu"
      },
      "execution_count": null,
      "outputs": []
    },
    {
      "cell_type": "code",
      "source": [
        "#List Comprehension\n",
        "precos_com_desconto = [preco - preco*0.10 for preco in precos]\n",
        "#imprima os preços da lista acima com o loop for\n",
        "precos_com_desconto #Pega do 0 até o elemento 2"
      ],
      "metadata": {
        "id": "gtbLyyLFwxTn"
      },
      "execution_count": null,
      "outputs": []
    },
    {
      "cell_type": "code",
      "source": [
        "#Loop com for\n",
        "\n",
        "# Lista de preços original\n",
        "precos = [100, 200, 300, 400, 500]\n",
        "\n",
        "# A taxa de desconto é de 10%\n",
        "desconto = 0.10\n",
        "\n",
        "# Loop 'for' para aplicar o desconto\n",
        "for preco in precos:\n",
        "    preco_com_desconto = preco * (1 - desconto)\n",
        "    print(f\"Preço original: R${preco}, Preço com desconto: R${preco_com_desconto:.2f}\")"
      ],
      "metadata": {
        "id": "AS0eFeAGPm2S"
      },
      "execution_count": null,
      "outputs": []
    },
    {
      "cell_type": "markdown",
      "source": [
        "### Análise de Vendas 📊\n",
        "Você é um analista de vendas 🕵️‍♂️ em uma empresa e recebeu uma lista de vendas mensais de diferentes produtos. Sua tarefa é identificar quais produtos atingiram uma meta de vendas específica. A meta para cada produto é de 100 unidades 🎯. Utilizando a compreensão de lista em Python, crie uma nova lista que contenha apenas os produtos que atingiram ou ultrapassaram a meta de vendas.\n",
        "\n",
        "Aqui está a lista de vendas dos produtos (cada número representa as unidades vendidas de um produto em um mês específico):\n",
        "```python\n",
        "vendas_produtos = [120, 95, 130, 75, 110, 90, 155, 80, 105, 100]\n",
        "```\n",
        "\n",
        "Escreva um programa em Python que utilize a compreensão de lista para gerar uma nova lista chamada produtos_meta_atingida. Esta lista deve conter apenas os números de vendas dos produtos que atingiram ou ultrapassaram a meta de 100 unidades 🏆.\n",
        "\n",
        "\"List Comprehension\" é um recurso do Python que permite a criação de novas listas de uma forma concisa e eficiente 🚀. É uma maneira de transformar uma lista existente em uma nova lista, modificando ou filtrando seus elementos com uma expressão. Este recurso é não apenas mais compacto, mas muitas vezes mais rápido do que usar loops tradicionais 🔄.\n",
        "\n",
        "```python\n",
        "[nova_expressao for item in lista_original if condicao]\n",
        "```"
      ],
      "metadata": {
        "id": "jrwuB6X3Zdum"
      }
    },
    {
      "cell_type": "code",
      "source": [
        "#Solução\n",
        "vendas_produtos = [120, 95, 130, 75, 110, 90, 155, 80, 105, 100]\n",
        "\n",
        "vendas_que_bateram_meta = [venda for venda in vendas_produtos if venda >= 100 ]\n",
        "\n",
        "vendas_que_bateram_meta"
      ],
      "metadata": {
        "id": "s0pa81LTZf88"
      },
      "execution_count": null,
      "outputs": []
    },
    {
      "cell_type": "code",
      "source": [
        "# Exercício - Análise de Retorno de Campanhas de Marketing\n",
        "# Você é analista de marketing em uma empresa e está avaliando o retorno de diferentes campanhas promocionais.\n",
        "# Abaixo está a lista com os números de novos clientes obtidos em cada mês após várias campanhas.\n",
        "# Calcule a média de novos clientes nos meses de campanha e nos meses sem campanha.\n",
        "\n",
        "# Lista de novos clientes por mês, onde None indica meses sem campanha\n",
        "clientes_mes = [150, 200, None, 300, None, 250, 180, None, 220, None, 210, 260]\n",
        "\n",
        "# Filtrando meses de campanha e meses sem campanha\n",
        "clientes_campanha = [clientes for clientes in clientes_mes if clientes is not None]\n",
        "clientes_sem_campanha = [clientes for clientes in clientes_mes if clientes is None]\n",
        "\n",
        "# Calculando a média de novos clientes nos meses de campanha\n",
        "media_clientes_campanha = sum(clientes_campanha) / len(clientes_campanha)\n",
        "\n",
        "# Exibindo a média de novos clientes\n",
        "media_clientes_campanha\n"
      ],
      "metadata": {
        "id": "MMkyjIu72DeY",
        "outputId": "6a2fc6b2-75ab-4587-ca0d-35c46200a242",
        "colab": {
          "base_uri": "https://localhost:8080/"
        }
      },
      "execution_count": null,
      "outputs": [
        {
          "output_type": "execute_result",
          "data": {
            "text/plain": [
              "221.25"
            ]
          },
          "metadata": {},
          "execution_count": 23
        }
      ]
    },
    {
      "cell_type": "code",
      "source": [
        "# Exercício - Otimização de Preços com Descontos\n",
        "# Você é um gerente de produto e precisa decidir sobre aplicar descontos em uma lista de produtos para aumentar as vendas.\n",
        "# Abaixo está a lista de preços originais dos produtos e a percentagem de desconto que você está considerando para cada um.\n",
        "# Calcule os novos preços após o desconto e determine a média dos preços com desconto.\n",
        "\n",
        "# Lista dos preços originais dos produtos e os descontos correspondentes\n",
        "precos_originais = [120, 150, 180, 200, 250]\n",
        "descontos = [10, 15, 20, 5, 25]  # descontos em porcentagem\n",
        "\n",
        "# Calculando os preços com desconto\n",
        "precos_com_desconto = [preco * (1 - desconto / 100) for preco, desconto in zip(precos_originais, descontos)]\n",
        "\n",
        "# Calculando a média dos preços com desconto\n",
        "media_precos_com_desconto = sum(precos_com_desconto) / len(precos_com_desconto)\n",
        "\n",
        "# Exibindo os novos preços e a média\n",
        "precos_com_desconto, media_precos_com_desconto\n"
      ],
      "metadata": {
        "id": "-mr_L7bQ3Nhs"
      },
      "execution_count": null,
      "outputs": []
    },
    {
      "cell_type": "markdown",
      "source": [
        "### Dicionários: HealthTech 🏥💼\n",
        "\n",
        "Você foi encarregado de criar um registro para armazenar os nomes de empresas e seus volumes de vendas anuais 💹. Crie um dicionário em Python chamado `vendas_empresas` e adicione três empresas a ele. Em seguida, acesse e imprima o volume de vendas de uma empresa específica pelo nome.\n",
        "\n",
        "- **Empresa 1:** Nome: `TechCorp`, Vendas: 2.5 milhões\n",
        "- **Empresa 2:** Nome: `HealthPlus`, Vendas: 1.7 milhões\n",
        "- **Empresa 3:** Nome: `EcoGoods`, Vendas: 2.1 milhões\n",
        "\n",
        "1. Crie um dicionário com os nomes e volumes de vendas das empresas.\n",
        "2. Acesse o volume de vendas da empresa `HealthPlus` e imprima-o 📈.\n",
        "\n",
        "\n",
        "\n"
      ],
      "metadata": {
        "id": "sY89seYVX4dd"
      }
    },
    {
      "cell_type": "code",
      "source": [
        "# Dicionário {} com empresas e seus volumes de vendas\n",
        "# A chave é o nome da empresa e o valor é o faturamento\n",
        "\n",
        "#Exemplo Lista\n",
        "vendas = [2.5, 1.7,2.1]\n",
        "vendas[0]\n",
        "\n",
        "vendas_empresas = {\"TechCorp\": 2.5, \"HealthPlus\": 1.7, \"EcoGoods\": 2.1}\n",
        "\n",
        "# Acessando e imprimindo o volume de vendas da HealthPlus\n",
        "vendas_HP = vendas_empresas[\"HealthPlus\"]\n",
        "print(f\"Volume de Vendas da HealthPlus: R${vendas_HP} milhões\")\n",
        "\n",
        "# Imprimrir os nomes das empresas (keys)\n",
        "\n",
        "#Imprimir os valores de vendas (values)\n"
      ],
      "metadata": {
        "id": "67-nZrZ5XvNF"
      },
      "execution_count": null,
      "outputs": []
    },
    {
      "cell_type": "code",
      "source": [
        "# Exercício - Gerenciamento de Estoque\n",
        "# Você é responsável pelo estoque de uma loja de eletrônicos. O estoque atual é armazenado em um dicionário\n",
        "# onde as chaves são os nomes dos produtos e os valores são as quantidades disponíveis.\n",
        "# Você precisa verificar quais produtos têm menos de 10 unidades e precisam ser reabastecidos.\n",
        "\n",
        "estoque = {\n",
        "    \"smartphones\": 9,\n",
        "    \"tablets\": 15,\n",
        "    \"laptops\": 5,\n",
        "    \"monitores\": 12,\n",
        "    \"câmeras\": 8\n",
        "}\n",
        "\n",
        "# Verificar produtos com estoque baixo\n",
        "produtos_para_reabastecer = {produto: quantidade for produto, quantidade in estoque.items() if quantidade < 10}\n",
        "\n",
        "produtos_para_reabastecer\n"
      ],
      "metadata": {
        "id": "1mdCcH5m5lQR",
        "outputId": "2ec4e05b-3154-4b64-d4d9-cfcfac81d431",
        "colab": {
          "base_uri": "https://localhost:8080/"
        }
      },
      "execution_count": null,
      "outputs": [
        {
          "output_type": "execute_result",
          "data": {
            "text/plain": [
              "{'smartphones': 9, 'laptops': 5, 'câmeras': 8}"
            ]
          },
          "metadata": {},
          "execution_count": 24
        }
      ]
    },
    {
      "cell_type": "code",
      "source": [
        "# Exercício - Análise de Vendas por Categoria\n",
        "# Você é analista em uma grande loja e precisa relatar as vendas totais por categoria de produto.\n",
        "# Os dados de vendas estão organizados em um dicionário onde as chaves são as categorias e os valores são listas\n",
        "# de vendas (em dólares) para cada produto naquela categoria.\n",
        "\n",
        "vendas_por_categoria = {\n",
        "    \"eletrodomésticos\": [200, 450, 700],\n",
        "    \"eletrônicos\": [1200, 1100, 1600],\n",
        "    \"móveis\": [550, 650, 750]\n",
        "}\n",
        "\n",
        "# Calcular o total de vendas por categoria\n",
        "total_vendas = {categoria: sum(vendas) for categoria, vendas in vendas_por_categoria.items()}\n",
        "\n",
        "total_vendas\n"
      ],
      "metadata": {
        "id": "Ec-J4cu56Tlz",
        "outputId": "f5de621d-5e01-4bde-d789-2d2f788d6ff3",
        "colab": {
          "base_uri": "https://localhost:8080/"
        }
      },
      "execution_count": null,
      "outputs": [
        {
          "output_type": "execute_result",
          "data": {
            "text/plain": [
              "{'eletrodomésticos': 1350, 'eletrônicos': 3900, 'móveis': 1950}"
            ]
          },
          "metadata": {},
          "execution_count": 25
        }
      ]
    },
    {
      "cell_type": "code",
      "source": [
        "# Exercício - Classificação de Clientes por Fidelidade\n",
        "# Você trabalha no departamento de marketing e deseja classificar seus clientes com base no total de compras.\n",
        "# Os clientes são armazenados em um dicionário com seu nome como chave e o total de suas compras como valor.\n",
        "# Classifique os clientes em 'Alto', 'Médio' e 'Baixo' com base no total de compras: acima de $500 é 'Alto',\n",
        "# entre $200 e $500 é 'Médio', e abaixo de $200 é 'Baixo'.\n",
        "\n",
        "clientes = {\n",
        "    \"Alice\": 650,\n",
        "    \"Bob\": 120,\n",
        "    \"Clara\": 320,\n",
        "    \"Davi\": 270,\n",
        "    \"Eva\": 50\n",
        "}\n",
        "\n",
        "# Classificar clientes\n",
        "classificacao_clientes = {\n",
        "    nome: (\"Alto\" if valor > 500 else \"Médio\" if valor > 200 else \"Baixo\") for nome, valor in clientes.items()\n",
        "}\n",
        "\n",
        "classificacao_clientes\n"
      ],
      "metadata": {
        "id": "hNCvwt5n69bE",
        "outputId": "bc21d21f-966e-47a7-cf88-617fc9f4daa6",
        "colab": {
          "base_uri": "https://localhost:8080/"
        }
      },
      "execution_count": null,
      "outputs": [
        {
          "output_type": "execute_result",
          "data": {
            "text/plain": [
              "{'Alice': 'Alto',\n",
              " 'Bob': 'Baixo',\n",
              " 'Clara': 'Médio',\n",
              " 'Davi': 'Médio',\n",
              " 'Eva': 'Baixo'}"
            ]
          },
          "metadata": {},
          "execution_count": 27
        }
      ]
    },
    {
      "cell_type": "code",
      "source": [
        "# Exercício - Avaliação de Performance de Vendas de Funcionários\n",
        "# Você é o gerente de vendas de uma empresa e deseja avaliar a performance de vendas dos seus funcionários.\n",
        "# As vendas realizadas por cada funcionário estão registradas em um dicionário, onde as chaves são os nomes dos funcionários\n",
        "# e os valores são as quantias vendidas. Identifique os funcionários que alcançaram vendas acima da média da equipe.\n",
        "\n",
        "vendas_funcionarios = {\n",
        "    \"Ana\": 15000,\n",
        "    \"Bruno\": 18000,\n",
        "    \"Carla\": 12000,\n",
        "    \"David\": 20000,\n",
        "    \"Eliane\": 17000\n",
        "}\n",
        "\n",
        "# Calcular a média de vendas\n",
        "media_vendas = sum(vendas_funcionarios.values()) / len(vendas_funcionarios)\n",
        "\n",
        "# Identificar funcionários com vendas acima da média\n",
        "funcionarios_acima_media = {nome: vendas for nome, vendas in vendas_funcionarios.items() if vendas > media_vendas}\n",
        "\n",
        "funcionarios_acima_media\n"
      ],
      "metadata": {
        "id": "3KZkco5d7ws8",
        "outputId": "80e1f5d6-c566-4715-ad7c-a010e6f2c085",
        "colab": {
          "base_uri": "https://localhost:8080/"
        }
      },
      "execution_count": null,
      "outputs": [
        {
          "output_type": "execute_result",
          "data": {
            "text/plain": [
              "{'Bruno': 18000, 'David': 20000, 'Eliane': 17000}"
            ]
          },
          "metadata": {},
          "execution_count": 28
        }
      ]
    },
    {
      "cell_type": "code",
      "source": [
        "# Exercício - Gerenciamento de Orçamentos de Projetos\n",
        "# Você é o diretor de operações de uma empresa e está responsável pelo orçamento dos projetos em andamento.\n",
        "# Os projetos e seus respectivos orçamentos estão listados em um dicionário. Cada chave é o nome do projeto e o valor é o orçamento.\n",
        "# Você precisa identificar quais projetos estão com orçamento acima de $100,000 para uma revisão financeira detalhada.\n",
        "\n",
        "orcamentos_projetos = {\n",
        "    \"Projeto Alpha\": 95000,\n",
        "    \"Projeto Beta\": 120000,\n",
        "    \"Projeto Gamma\": 85000,\n",
        "    \"Projeto Delta\": 130000,\n",
        "    \"Projeto Epsilon\": 70000\n",
        "}\n",
        "\n",
        "# Identificar projetos com orçamento elevado\n",
        "projetos_revisao = {projeto: orcamento for projeto, orcamento in orcamentos_projetos.items() if orcamento > 100000}\n",
        "\n",
        "projetos_revisao\n"
      ],
      "metadata": {
        "id": "QWql_moe8BVp",
        "outputId": "93abdbeb-8db8-4b85-f78a-a5b807e22d19",
        "colab": {
          "base_uri": "https://localhost:8080/"
        }
      },
      "execution_count": null,
      "outputs": [
        {
          "output_type": "execute_result",
          "data": {
            "text/plain": [
              "{'Projeto Beta': 120000, 'Projeto Delta': 130000}"
            ]
          },
          "metadata": {},
          "execution_count": 29
        }
      ]
    },
    {
      "cell_type": "markdown",
      "source": [
        "### Dicionários: Evento de Educação Financeira 🎓💼\n",
        "Você está organizando um evento 🎉 e precisa manter uma lista de participantes e suas idades. Crie um programa em Python que armazene essa informação em um dicionário e depois imprima o nome e a idade de cada participante 📋. Adicione pelo menos três participantes ao dicionário e imprima os detalhes.\n",
        "\n",
        "1. Participante 1: Nome: \"João Silva\", Idade: 28\n",
        "2. Participante 2: Nome: \"Maria Fernanda\", Idade: 33\n",
        "3. Participante 3: Nome: \"Carlos Andrade\", Idade: 22\n",
        "\n",
        "- Crie um dicionário chamado `participantes` onde as chaves são os nomes dos participantes e os valores são suas idades.\n",
        "- Use um loop for para percorrer o dicionário `participantes`.\n",
        "- Imprima os detalhes de cada participante no formato: `\"[nome] tem [idade] anos\"`.\n"
      ],
      "metadata": {
        "id": "KBb3Vet3Ro1E"
      }
    },
    {
      "cell_type": "code",
      "source": [
        "# Dicionário de participantes\n",
        "participantes = {\"João Silva\": 28,\"Maria Fernanda\": 33,\"Carlos Andrade\": 22}\n",
        "\n",
        "#Os nomes são conhecidos como chaves ou keys e as idades são os valores ou valures do dicionário\n",
        "\n",
        "#Qual é a idade de Maria Fernanda\n",
        "\n",
        "# Loop para imprimir os detalhes de cada participante\n",
        "for nome, idade in participantes.items():\n",
        "    print(f\"{nome} tem {idade} anos.\")\n"
      ],
      "metadata": {
        "id": "NIgXJL-5Rphe"
      },
      "execution_count": null,
      "outputs": []
    },
    {
      "cell_type": "markdown",
      "source": [
        "### Exercício: Pesquisa de Satisfação do Cliente 😊📊\n",
        "Você está organizando uma pesquisa de satisfação do cliente 📝 onde os clientes classificaram seu serviço em uma escala de 1 a 5, sendo 1 'muito insatisfeito'\n",
        "\n",
        "\n",
        "```\n",
        "pontuacoes = [1, 2, 5, 4, 3, 5, 1, 4, 3, 5, 2, 1, 3, 4, 5]\n",
        "\n",
        "```"
      ],
      "metadata": {
        "id": "IQWbDMQyQ37Z"
      }
    },
    {
      "cell_type": "code",
      "source": [
        "#Solução Pesquisa de Satisfação do Cliente\n",
        "\n"
      ],
      "metadata": {
        "id": "VL2VOwFwRW2e"
      },
      "execution_count": null,
      "outputs": []
    },
    {
      "cell_type": "markdown",
      "source": [
        "\n",
        "### Exercício: Análise de Feedback de Clientes: 🔍🗣️\n",
        "Você é um analista de dados 💻 em uma empresa e recebeu feedbacks de clientes sobre um novo produto. Cada feedback é uma string que pode conter palavras-chave importantes como \"excelente\" 👍, \"bom\" 🙂, \"regular\" 😐 ou \"ruim\" 👎. Sua tarefa é analisar esses feedbacks para categorizar a reação dos clientes ao produto.\n",
        "\n",
        "Escreva um programa em Python que leia uma string de feedback e identifique se ela contém alguma das palavras-chave mencionadas. Dependendo da palavra-chave encontrada, classifique o feedback como \"Positivo\" 🟢, \"Neutro\" 🟡 ou \"Negativo\" 🔴.\n",
        "\n",
        "```python\n",
        "feedback = \"O produto é excelente e atendeu todas as minhas expectativas.\"\n",
        "\n"
      ],
      "metadata": {
        "id": "xH2IwlRldo6u"
      }
    },
    {
      "cell_type": "markdown",
      "source": [
        "## <font color='blue'> Funções</font>"
      ],
      "metadata": {
        "id": "uHXv2CeOQRzT"
      }
    },
    {
      "cell_type": "markdown",
      "source": [
        "\n",
        "### Cálculo do Lucro 💹\n",
        "Você é um analista financeiro 💼 em uma empresa e precisa criar uma função para calcular o lucro líquido 💵. O lucro líquido é calculado subtraindo as despesas totais 📉 das receitas totais 📈. Escreva uma função em Python chamada `calcular_lucro` que aceita dois argumentos: `receitas` e `despesas`. A função deve retornar o lucro líquido.\n",
        "\n",
        "\n"
      ],
      "metadata": {
        "id": "h6PogRQfSyaT"
      }
    },
    {
      "cell_type": "code",
      "source": [
        "def calcular_lucro(receitas, despesas):\n",
        "    \"\"\"\n",
        "    Calcula o lucro líquido subtraindo as despesas das receitas.\n",
        "\n",
        "    :param receitas: valor total das receitas.\n",
        "    :param despesas: valor total das despesas.\n",
        "    :return: lucro líquido.\n",
        "    \"\"\"\n",
        "    return receitas - despesas\n",
        "\n",
        "# Exemplo de uso da função\n",
        "lucro = calcular_lucro(10000, 7000)\n",
        "lucro\n"
      ],
      "metadata": {
        "id": "SJkmsL2zMo5y"
      },
      "execution_count": null,
      "outputs": []
    },
    {
      "cell_type": "code",
      "source": [
        "def calcular_lucro(receitas, despesas):\n",
        "  return receitas - despesas\n",
        "\n",
        "# Exemplo de uso da função\n",
        "receitas = 100000\n",
        "despesas = 70000\n",
        "lucro = calcular_lucro(receitas, despesas)\n",
        "print(f\"O lucro líquido é: R${lucro:.2f}\")\n"
      ],
      "metadata": {
        "id": "F1YW9O_sQZBV"
      },
      "execution_count": null,
      "outputs": []
    },
    {
      "cell_type": "markdown",
      "source": [
        "### Conversão de Moeda 💱\n",
        "Uma empresa de importação e exportação 🌍 precisa converter valores entre diferentes moedas frequentemente 💸.\n",
        "\n",
        "Crie uma função chamada `converter_moeda` que converte um valor de uma moeda para outra com base em uma taxa de câmbio fornecida 💹. A função deve aceitar dois argumentos: o `valor` a ser convertido e a `taxa_cambio`.\n",
        "\n",
        "- A função `converter_moeda` deve receber dois parâmetros:\n",
        "    - `valor`: O montante na moeda original 🪙.\n",
        "    - `taxa_cambio`: A taxa de câmbio para conversão 🔄.\n",
        "- A função deve retornar o valor convertido na nova moeda 💰.\n",
        "\n",
        "\n"
      ],
      "metadata": {
        "id": "MX5cnFJiTZEO"
      }
    },
    {
      "cell_type": "code",
      "source": [
        "def converter_moeda(valor, taxa_cambio):\n",
        "    return valor * taxa_cambio\n",
        "\n",
        "# Exemplo de uso da função\n",
        "valor_dolar = 50\n",
        "taxa_cambio = 5.25  # Taxa de câmbio do Dólar para Real\n",
        "valor_real = converter_moeda(valor_dolar, taxa_cambio)\n",
        "print(f\"R${valor_real} reais\")\n"
      ],
      "metadata": {
        "id": "7EvLTWa1TjWn"
      },
      "execution_count": null,
      "outputs": []
    },
    {
      "cell_type": "markdown",
      "source": [
        "### Cálculo de Comissão de Vendas 💰\n",
        "Em uma empresa, os vendedores recebem comissões 💵 baseadas no valor das vendas que realizam. A taxa de comissão varia de acordo com o valor das vendas 📈.\n",
        "\n",
        "Crie uma função chamada `calcular_comissao` que aceita o `valor_vendas` e calcula a comissão do vendedor com base nos seguintes critérios 🧮:\n",
        "- Taxa de comissão de 5% para vendas até 5000 💸.\n",
        "- Taxa de comissão de 10% para vendas acima de 5000 📊.\n",
        "\n",
        "- A função deve receber um parâmetro `valor_vendas`, que é o montante total das vendas 🛒.\n",
        "- A função deve retornar o valor da comissão com base na taxa aplicável 🔢.\n",
        "\n",
        "\n"
      ],
      "metadata": {
        "id": "CSyH1SBZT4IF"
      }
    },
    {
      "cell_type": "code",
      "source": [
        "def calcular_comissao(valor_vendas):\n",
        "    \"\"\"\n",
        "    Calcula a comissão de um vendedor com base no valor das vendas.\n",
        "\n",
        "    :param valor_vendas: valor total das vendas realizadas.\n",
        "    :return: valor da comissão.\n",
        "    \"\"\"\n",
        "    if valor_vendas <= 5000:\n",
        "        taxa_comissao = 0.05  # 5% de comissão\n",
        "    else:\n",
        "        taxa_comissao = 0.10  # 10% de comissão\n",
        "\n",
        "    return valor_vendas * taxa_comissao\n",
        "\n",
        "# Exemplo de uso da função\n",
        "comissao_1 = calcular_comissao(4000)  # Vendas abaixo de 5000\n",
        "comissao_2 = calcular_comissao(6000)  # Vendas acima de 5000\n",
        "\n",
        "comissao_1, comissao_2\n"
      ],
      "metadata": {
        "id": "Dl0cgBmUN4yq"
      },
      "execution_count": null,
      "outputs": []
    },
    {
      "cell_type": "code",
      "source": [
        "def calcular_comissao(valor_vendas):\n",
        "    if valor_vendas <= 5000:\n",
        "        return valor_vendas * 0.05\n",
        "    else:\n",
        "        return valor_vendas * 0.10\n",
        "\n",
        "# Exemplo de uso da função\n",
        "valor_vendas = 6000\n",
        "comissao = calcular_comissao(valor_vendas)\n",
        "print(f\"A comissão é de: R${comissao:.2f}\")\n"
      ],
      "metadata": {
        "id": "0dtfElRqT74m"
      },
      "execution_count": null,
      "outputs": []
    },
    {
      "cell_type": "markdown",
      "source": [
        "\n",
        "\n",
        "### Exercício: Avaliação de Impacto Ambiental de Produtos 🌍\n",
        "Você trabalha em uma empresa comprometida com as práticas de ESG (Ambiental, Social e Governança) 🌱 e precisa avaliar o impacto ambiental dos produtos da empresa com base em seus componentes. Cada componente possui uma classificação de impacto ambiental de 1 a 5, onde 1 representa o menor impacto e 5 o maior 📈.\n",
        "\n",
        "Desenvolva uma função em Python chamada `avaliar_impacto_ambiental` que recebe um dicionário representando os componentes de um produto e suas respectivas classificações de impacto ambiental 📊. A função deve calcular a média de impacto do produto e determinar se ele é considerado de alto impacto ambiental 🚨.\n",
        "\n",
        "#### Requisitos da Função:\n",
        "- A função deve aceitar um dicionário onde as chaves são os nomes dos componentes e os valores são suas classificações de impacto ambiental (exemplo: `{\"Plástico\": 4, \"Bateria\": 5, \"Papel\": 2}`).\n",
        "- Utilize um loop `for` para iterar sobre as classificações de impacto no dicionário 🔁.\n",
        "- Calcule a média de impacto ambiental do produto 🧮.\n",
        "- Utilize uma estrutura condicional `if` para determinar se o produto é de alto impacto ambiental 🔎.\n",
        "- A função deve retornar `True` se o produto for de alto impacto ambiental, e `False` caso contrário.\n",
        "\n",
        "#### Exemplo de Uso da Função:\n",
        "```python\n",
        "componentes = {\"Plástico\": 4, \"Bateria\": 5, \"Papel\": 2}\n",
        "produto_alto_impacto = avaliar_impacto_ambiental(componentes)\n",
        "print(\"Produto de alto impacto ambiental:\", produto_alto_impacto)\n",
        "\n",
        "\n"
      ],
      "metadata": {
        "id": "NdfNRc8YU7bT"
      }
    },
    {
      "cell_type": "code",
      "source": [
        "componentes = {\"Plástico\": 4, \"Bateria\": 5, \"Papel\": 2}\n",
        "\n",
        "for elemento, valor in componentes.items():\n",
        "  print(f\"O componente {elemento} tem  {valor}\")\n"
      ],
      "metadata": {
        "id": "BFgsklx3O2kA"
      },
      "execution_count": null,
      "outputs": []
    },
    {
      "cell_type": "code",
      "source": [
        "#Solução Avaliação do Impacato Ambiental de Produtos\n",
        "def avaliar_impacto_ambiental(componentes):\n",
        "    \"\"\"\n",
        "    Avalia o impacto ambiental de um produto com base nas classificações de impacto ambiental de seus componentes.\n",
        "\n",
        "    :param componentes: dicionário com componentes e suas respectivas classificações de impacto ambiental.\n",
        "    :return: True se o produto for de alto impacto ambiental, False caso contrário.\n",
        "    \"\"\"\n",
        "    total_impacto = 0\n",
        "    n_componentes = len(componentes)\n",
        "\n",
        "    # Calculando a soma das classificações de impacto ambiental\n",
        "    for impacto in componentes.values():\n",
        "        total_impacto += impacto\n",
        "\n",
        "    # Calculando a média de impacto ambiental\n",
        "    media_impacto = total_impacto / n_componentes\n",
        "\n",
        "    # Determinando se o produto é de alto impacto ambiental\n",
        "    return media_impacto > 3\n",
        "\n",
        "# Exemplo de uso da função\n",
        "produto = {\"Plástico\": 4, \"Bateria\": 5, \"Papel\": 2}\n",
        "avaliar_impacto_ambiental(produto)\n"
      ],
      "metadata": {
        "id": "0QfPUjuZmNLL"
      },
      "execution_count": null,
      "outputs": []
    },
    {
      "cell_type": "markdown",
      "source": [
        "## <font color='blue'> Manipulação de Dados com Pandas </font>"
      ],
      "metadata": {
        "id": "hB_Ang92h_HQ"
      }
    },
    {
      "cell_type": "markdown",
      "source": [
        "\n",
        "### DataFrame com Pandas 🐼📊\n",
        "O pacote `pandas` é uma ferramenta poderosa em Python utilizada para análise de dados 📈. Ele permite manipular dados de forma eficiente e é especialmente útil quando se lida com tabelas ou dados estruturados 📚. Uma das estruturas de dados centrais no `pandas` é o `DataFrame`, que é essencialmente uma tabela onde as linhas representam as entradas de dados e as colunas representam as variáveis 📉.\n",
        "\n",
        "Você tem um dicionário com dados de vendas de produtos e suas quantidades e valores 💰. Seu objetivo é transformar esse dicionário em um `DataFrame` do `pandas` para uma análise posterior mais conveniente 📋.\n",
        "\n",
        "```python\n",
        "vendas_produtos = {\n",
        "    \"Produto\": [\"Fone de Ouvido\", \"Película de Vidro\", \"Cabo\", \"Capa de Celular\"],\n",
        "    \"Quantidade\": [10, 5, 8, 12],\n",
        "    \"Valor\": [200, 150, 125, 300]\n",
        "}\n",
        "\n"
      ],
      "metadata": {
        "id": "qitJqrgOiunz"
      }
    },
    {
      "cell_type": "code",
      "source": [
        "vendas_produtos = {\n",
        "    \"Produto\": [\"Fone de Ouvido\", \"Película de Vidro\", \"Cabo\", \"Capa de Celular\"],\n",
        "    \"Quantidade\": [10, 5, 8, 12],\n",
        "    \"Valor\": [200, 150, 125, 300]}\n",
        "\n",
        "vendas_produtos[\"Produto\"]"
      ],
      "metadata": {
        "id": "ZW2-V0CbXGQX"
      },
      "execution_count": null,
      "outputs": []
    },
    {
      "cell_type": "code",
      "source": [
        "#Solução DataFrame com Pandas\n",
        "\n",
        "# Primeiramente, vamos importar o pacote pandas.\n",
        "import pandas as pd\n",
        "\n",
        "# Agora, vamos transformar o dicionário fornecido em um DataFrame utilizando o pandas.\n",
        "vendas_produtos = {\n",
        "    \"Produto\": [\"Fone de Ouvido\", \"Película de Vidro\", \"Cabo\", \"Capa de Celular\"],\n",
        "    \"Quantidade\": [10, 5, 8, 12],\n",
        "    \"Valor\": [200, 150, 125, 300]\n",
        "}\n",
        "\n",
        "# Criando o DataFrame a partir do dicionário\n",
        "df_vendas = pd.DataFrame(vendas_produtos)\n",
        "df_vendas\n",
        "\n",
        "# Acessando a coluna \"Quantidade\"\n",
        "quantidades = df_vendas['Quantidade']\n",
        "\n",
        "# Criando o DataFrame a partir do dicionário\n",
        "df_vendas = pd.DataFrame(vendas_produtos)\n",
        "\n",
        "# Utilizando o método .describe() na coluna \"Valor\"\n",
        "descricao_valores = df_vendas['Produto'].describe()\n",
        "descricao_valores\n",
        "\n",
        "\n",
        "\n"
      ],
      "metadata": {
        "id": "DymL3WYBjGvr"
      },
      "execution_count": null,
      "outputs": []
    },
    {
      "cell_type": "markdown",
      "source": [
        "\n",
        "### Cálculo de Vendas Totais:\n",
        "Com o DataFrame criado a partir dos dados de vendas de produtos, seu objetivo é calcular a soma total das quantidades de produtos vendidos e a receita total gerada por essas vendas.\n",
        "\n",
        "- Utilize o método `sum()` do pandas para calcular a soma total da coluna \"Quantidade\" e da coluna \"Valor\".\n",
        "- Imprima o total de produtos vendidos e a receita total gerada.\n",
        "\n",
        "```python\n",
        "import pandas as pd\n",
        "\n",
        "# Dados fornecidos\n",
        "vendas_produtos = {\n",
        "    \"Produto\": [\"Fone de Ouvido\", \"Película de Vidro\", \"Cabo\", \"Capa de Celular\"],\n",
        "    \"Quantidade\": [10, 5, 8, 12],\n",
        "    \"Valor\": [200, 150, 125, 300]\n",
        "}\n",
        "\n",
        "# Criando o DataFrame\n",
        "df_vendas = pd.DataFrame(vendas_produtos)\n",
        "\n",
        "# Sua tarefa: calcular e imprimir o total de produtos vendidos e a receita total\n",
        "# Escreva seu código abaixo\n"
      ],
      "metadata": {
        "id": "oKaZh_zhkBHN"
      }
    },
    {
      "cell_type": "code",
      "source": [
        "#Solução Vendas Totais\n",
        "\n",
        "import pandas as pd\n",
        "\n",
        "# Dados fornecidos\n",
        "vendas_produtos = {\n",
        "    \"Produto\": [\"Fone de Ouvido\", \"Película de Vidro\", \"Cabo\", \"Capa de Celular\"],\n",
        "    \"Quantidade\": [10, 5, 8, 12],\n",
        "    \"Valor\": [200, 150, 125, 300]\n",
        "}\n",
        "\n",
        "# Criando o DataFrame\n",
        "df_vendas = pd.DataFrame(vendas_produtos)\n",
        "\n",
        "# Calculando o total de produtos vendidos\n",
        "total_produtos_vendidos = df_vendas[\"Quantidade\"].sum()\n",
        "\n",
        "# Calculando a receita total (Quantidade * Valor)\n",
        "df_vendas[\"Receita\"] = df_vendas[\"Quantidade\"] * df_vendas[\"Valor\"]\n",
        "receita_total = df_vendas[\"Receita\"].sum()\n",
        "\n",
        "total_produtos_vendidos, receita_total\n",
        "\n",
        "condicao = (df_vendas[\"Receita\"] >= 1000) & (df_vendas[\"Quantidade\"] >= 10)\n",
        "\n",
        "df_vendas[condicao]\n",
        "condicao\n"
      ],
      "metadata": {
        "id": "3kNeIhXTkHzK"
      },
      "execution_count": null,
      "outputs": []
    },
    {
      "cell_type": "markdown",
      "source": [
        "### Contagem de Vendas por Produto 🛒📊\n",
        "Para uma análise detalhada do desempenho dos produtos, é útil saber quantas vezes cada produto foi vendido 📈. No DataFrame de vendas de produtos, conte quantas vezes cada produto aparece.\n",
        "\n",
        "- Aplique o método `value_counts()` à coluna \"Produto\" do DataFrame `df_vendas` para determinar a frequência de vendas de cada produto 📝.\n",
        "- Imprima o resultado da contagem para cada produto 🖨️.\n",
        "\n",
        "```python\n",
        "import pandas as pd\n",
        "\n",
        "# Dados fornecidos anteriormente\n",
        "vendas_produtos = {\n",
        "    \"Produto\": [\"Fone de Ouvido\", \"Película de Vidro\", \"Cabo\", \"Capa de Celular\"],\n",
        "    \"Quantidade\": [10, 5, 8, 12],\n",
        "    \"Valor\": [200, 150, 125, 300]\n",
        "}\n",
        "\n",
        "# Criando o DataFrame a partir do dicionário\n",
        "df_vendas = pd.DataFrame(vendas_produtos)\n",
        "\n",
        "# Sua tarefa: Use o método value_counts() na coluna \"Produto\"\n",
        "# Escreva seu código abaixo\n",
        "\n"
      ],
      "metadata": {
        "id": "maj5_mIIkQHH"
      }
    },
    {
      "cell_type": "code",
      "source": [
        "#Solução Vendas por Produto\n",
        "\n",
        "# Aplicando o método value_counts() na coluna \"Produto\" do DataFrame df_vendas\n",
        "contagem_produtos = df_vendas[\"Produto\"].value_counts()\n",
        "\n",
        "contagem_produtos\n"
      ],
      "metadata": {
        "id": "Bwf4CP10k6z4"
      },
      "execution_count": null,
      "outputs": []
    },
    {
      "cell_type": "markdown",
      "source": [
        "\n",
        "### Agrupamento de Vendas por Produto 📈🛍️\n",
        "Você deseja realizar uma análise mais detalhada das vendas, agrupando os dados por produto para calcular a quantidade total e a receita total para cada item vendido 💹.\n",
        "\n",
        "- Utilize o método `groupby()` para agrupar as vendas no DataFrame `df_vendas` com base na coluna \"Produto\" 📊.\n",
        "- Calcule a soma total das colunas \"Quantidade\" e \"Valor\" para cada grupo de produtos 🔢.\n",
        "- Imprima a quantidade total e a receita total de cada produto 💰.\n",
        "\n",
        "```python\n",
        "import pandas as pd\n",
        "\n",
        "# Dados fornecidos anteriormente\n",
        "vendas_produtos = {\n",
        "    \"Produto\": [\"Fone de Ouvido\", \"Película de Vidro\", \"Cabo\", \"Capa de Celular\"],\n",
        "    \"Quantidade\": [10, 5, 8, 12],\n",
        "    \"Valor\": [200, 150, 125, 300]\n",
        "}\n",
        "\n",
        "# Criando o DataFrame a partir do dicionário\n",
        "df_vendas = pd.DataFrame(vendas_produtos)\n",
        "\n",
        "# Sua tarefa: Agrupe os dados por produto e calcule a soma das colunas \"Quantidade\" e \"Valor\"\n",
        "# Escreva seu código abaixo\n"
      ],
      "metadata": {
        "id": "klsLCZbYlAIF"
      }
    },
    {
      "cell_type": "code",
      "source": [
        "#Solução Agrupamento de Vendas por Produtos\n",
        "\n",
        "# Agrupando os dados por produto e calculando a soma total de 'Quantidade' e 'Valor' para cada grupo\n",
        "agrupamento = df_vendas.groupby(\"Produto\").sum()\n",
        "\n",
        "# Adicionando uma coluna 'Receita' que é o produto de 'Quantidade' e 'Valor' para cada grupo\n",
        "agrupamento[\"Receita\"] = agrupamento[\"Quantidade\"] * agrupamento[\"Valor\"]\n",
        "\n",
        "agrupamento[['Quantidade', 'Receita']]\n",
        "\n",
        "agrupamento\n"
      ],
      "metadata": {
        "id": "Vy2Ibg9QlSPy"
      },
      "execution_count": null,
      "outputs": []
    },
    {
      "cell_type": "markdown",
      "source": [
        "### Análise do Preço Médio de Produtos 💹🔍\n",
        "Após realizar algumas análises básicas com o DataFrame `df_vendas`, você está diante de um desafio maior: entender a rentabilidade de cada produto vendido 💰. Rentabilidade é entendida como o valor das vendas dividido pela quantidade vendida, o que oferece o preço médio de venda de cada produto 📊.\n",
        "\n",
        "- Adicione uma nova coluna ao DataFrame `df_vendas` chamada \"Preço Médio\" que represente o preço médio de venda de cada produto 🏷️.\n",
        "- Ordene o DataFrame pelo \"Preço Médio\" em ordem decrescente para descobrir quais produtos têm o maior preço médio de venda 🔝.\n",
        "- Analise se existe alguma correlação visível entre a quantidade vendida e o preço médio dos produtos 📈.\n",
        "\n",
        "```python\n",
        "import pandas as pd\n",
        "\n",
        "# Dados de vendas de produtos fornecidos anteriormente\n",
        "vendas_produtos = {\n",
        "    \"Produto\": [\"Fone de Ouvido\", \"Película de Vidro\", \"Cabo\", \"Capa de Celular\"],\n",
        "    \"Quantidade\": [10, 5, 8, 12],\n",
        "    \"Valor\": [200, 150, 125, 300]\n",
        "}\n",
        "\n",
        "# Criando o DataFrame a partir do dicionário\n",
        "df_vendas = pd.DataFrame(vendas_produtos)\n",
        "\n",
        "\n",
        "\n"
      ],
      "metadata": {
        "id": "0IY5j-rGlWY4"
      }
    },
    {
      "cell_type": "code",
      "source": [
        "#Solução Preço Médio de Produtos\n",
        "\n",
        "# Calculando o preço médio de venda de cada produto\n",
        "df_vendas[\"Preço Médio\"] = df_vendas[\"Valor\"] / df_vendas[\"Quantidade\"]\n",
        "\n",
        "# Ordenando o DataFrame pelo \"Preço Médio\" em ordem decrescente\n",
        "df_vendas_ordenado = df_vendas.sort_values(\"Preço Médio\", ascending=False)\n",
        "\n",
        "# Analisando a correlação entre 'Quantidade' e 'Preço Médio'\n",
        "correlacao = df_vendas[[\"Quantidade\", \"Preço Médio\"]].corr()\n",
        "\n",
        "df_vendas_ordenado, correlacao\n",
        "\n"
      ],
      "metadata": {
        "id": "RxxIXY5ymTDy"
      },
      "execution_count": null,
      "outputs": []
    },
    {
      "cell_type": "markdown",
      "source": [
        "## <font color='blue'> Visualização de Graficos </font>"
      ],
      "metadata": {
        "id": "cKa0hrSNnJ5G"
      }
    },
    {
      "cell_type": "code",
      "source": [
        "#Gráfico de barras\n",
        "#Gráfico de pizza\n",
        "#Gráfico de Linha\n",
        "#Gráfico Box-Plot com diversos atributos"
      ],
      "metadata": {
        "id": "Ip9ZATAoPK1c"
      },
      "execution_count": null,
      "outputs": []
    },
    {
      "cell_type": "code",
      "source": [
        "import matplotlib.pyplot as plt\n",
        "import numpy as np\n",
        "\n",
        "# Exemplo de dados na área de finanças\n",
        "categorias = ['Receitas', 'Despesas', 'Lucro']\n",
        "valores = [120000, 80000, 40000]\n",
        "\n",
        "fig, ax = plt.subplots()\n",
        "\n",
        "# Criando um gráfico de barras\n",
        "ax.bar(categorias, valores, color=['blue', 'red', 'green'])\n",
        "\n",
        "# Adicionando título e rótulos\n",
        "ax.set_title('Demonstrativo Financeiro Anual')\n",
        "ax.set_ylabel('Valor em R$')\n",
        "ax.set_xlabel('Categorias')\n",
        "\n",
        "# Mostrando valores em cima das barras\n",
        "for i, valor in enumerate(valores):\n",
        "    ax.text(i, valor + 2000, f'R$ {valor:,}', ha='center')\n",
        "\n",
        "plt.show()\n"
      ],
      "metadata": {
        "id": "aCJ9mUw5QaYd"
      },
      "execution_count": null,
      "outputs": []
    },
    {
      "cell_type": "code",
      "source": [
        "import matplotlib.pyplot as plt\n",
        "import seaborn as sns\n",
        "\n",
        "# Exemplo de dados na área de marketing\n",
        "categorias = ['Mídias Sociais', 'E-mail', 'SEO', 'PPC', 'Outros']\n",
        "valores = [30, 20, 25, 15, 10]\n",
        "\n",
        "# Criando um gráfico de pizza\n",
        "plt.figure(figsize=(4, 4))\n",
        "plt.pie(valores, labels=categorias, autopct='%1.0f%%', startangle=140, colors=sns.color_palette('bright'))\n",
        "\n",
        "# Adicionando título\n",
        "plt.title('Distribuição do Orçamento de Marketing')\n",
        "\n",
        "plt.show()\n"
      ],
      "metadata": {
        "id": "Y3oBahNQRLXY"
      },
      "execution_count": null,
      "outputs": []
    },
    {
      "cell_type": "code",
      "source": [
        "import pandas as pd\n",
        "import seaborn as sns\n",
        "\n",
        "# Exemplo de dados de série temporal de vendas\n",
        "meses = ['Jan', 'Fev', 'Mar', 'Abr', 'Mai', 'Jun', 'Jul', 'Ago', 'Set', 'Out', 'Nov', 'Dez']\n",
        "vendas = [200, 220, 250, 270, 300, 320, 350, 330, 310, 300, 280, 260]\n",
        "\n",
        "# Criando um DataFrame\n",
        "df_vendas = pd.DataFrame({'Mês': meses, 'Vendas': vendas})\n",
        "\n",
        "# Criando um gráfico de linha\n",
        "plt.figure(figsize=(10, 6))\n",
        "sns.lineplot(data=df_vendas, x='Mês', y='Vendas', marker='o')\n",
        "\n",
        "# Adicionando título e rótulos\n",
        "plt.title('Vendas ao Longo dos Meses')\n",
        "plt.xlabel('Mês')\n",
        "plt.ylabel('Vendas (unidades)')\n",
        "\n",
        "plt.show()\n"
      ],
      "metadata": {
        "id": "s1MiRuNnR45N"
      },
      "execution_count": null,
      "outputs": []
    },
    {
      "cell_type": "code",
      "source": [
        "import seaborn as sns\n",
        "import pandas as pd\n",
        "\n",
        "# Exemplo de dados de marketing com vários atributos\n",
        "data = {\n",
        "    'Mídias Sociais': [50, 60, 45, 55, 65, 70, 60, 55, 50, 58],\n",
        "    'E-mail': [40, 35, 30, 45, 50, 55, 40, 42, 44, 35],\n",
        "    'SEO': [70, 75, 80, 65, 60, 80, 75, 70, 68, 72],\n",
        "    'PPC': [55, 60, 50, 65, 70, 75, 60, 55, 53, 58]\n",
        "}\n",
        "\n",
        "# Convertendo em DataFrame\n",
        "df_marketing = pd.DataFrame(data)\n",
        "\n",
        "# Criando um gráfico de box plot\n",
        "plt.figure(figsize=(10, 6))\n",
        "sns.boxplot(data=df_marketing)\n",
        "\n",
        "# Adicionando título e rótulos\n",
        "plt.title('Distribuição dos Resultados de Marketing por Canal')\n",
        "plt.ylabel('Performance')\n",
        "\n",
        "plt.show()\n"
      ],
      "metadata": {
        "id": "Md0KunD5SuWT"
      },
      "execution_count": null,
      "outputs": []
    },
    {
      "cell_type": "code",
      "source": [
        "import plotly.express as px\n",
        "\n",
        "# Utilizando os mesmos dados do exemplo anterior\n",
        "data = {\n",
        "    'Mídias Sociais': [50, 60, 45, 55, 65, 70, 60, 55, 50, 58],\n",
        "    'E-mail': [40, 35, 30, 45, 50, 55, 40, 42, 44, 35],\n",
        "    'SEO': [70, 75, 80, 65, 60, 80, 75, 70, 68, 72],\n",
        "    'PPC': [55, 60, 50, 65, 70, 75, 60, 55, 53, 58]\n",
        "}\n",
        "\n",
        "# Convertendo em DataFrame e ajustando para formato longo\n",
        "df_marketing = pd.DataFrame(data).melt(var_name='Canal', value_name='Performance')\n",
        "\n",
        "# Criando um gráfico de box plot com Plotly\n",
        "fig = px.box(df_marketing, x='Canal', y='Performance', title='Distribuição dos Resultados de Marketing por Canal')\n",
        "\n",
        "# Mostrando o gráfico\n",
        "fig.show()\n"
      ],
      "metadata": {
        "id": "dfFor587TMdH"
      },
      "execution_count": null,
      "outputs": []
    },
    {
      "cell_type": "code",
      "source": [
        "import seaborn as sns\n",
        "import pandas as pd\n",
        "import numpy as np\n",
        "\n",
        "# Exemplo de dados com variáveis financeiras\n",
        "data = {\n",
        "    'Receita': np.random.randint(100, 200, 100),\n",
        "    'Despesas': np.random.randint(80, 150, 100),\n",
        "    'Lucro': np.random.randint(20, 50, 100),\n",
        "    'Investimentos': np.random.randint(50, 100, 100),\n",
        "    'Empréstimos': np.random.randint(10, 100, 100)\n",
        "}\n",
        "\n",
        "# Convertendo em DataFrame\n",
        "df_financeiro = pd.DataFrame(data)\n",
        "\n",
        "# Calculando a matriz de correlação\n",
        "correlacao = df_financeiro.corr()\n",
        "\n",
        "# Criando um mapa de calor (heatmap) das correlações\n",
        "plt.figure(figsize=(8, 6))\n",
        "sns.heatmap(correlacao, annot=True, cmap='coolwarm', fmt=\".2f\")\n",
        "\n",
        "# Adicionando título\n",
        "plt.title('Mapa de Calor de Correlações entre Variáveis Financeiras')\n",
        "\n",
        "plt.show()\n"
      ],
      "metadata": {
        "id": "9D9UM4d4T2uL"
      },
      "execution_count": null,
      "outputs": []
    }
  ]
}