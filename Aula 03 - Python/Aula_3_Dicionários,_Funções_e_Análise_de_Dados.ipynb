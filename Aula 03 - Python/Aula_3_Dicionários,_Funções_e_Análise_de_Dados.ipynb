{
  "nbformat": 4,
  "nbformat_minor": 0,
  "metadata": {
    "colab": {
      "provenance": [],
      "authorship_tag": "ABX9TyOruPiuaRIi+5OEH8alMRiG",
      "include_colab_link": true
    },
    "kernelspec": {
      "name": "python3",
      "display_name": "Python 3"
    },
    "language_info": {
      "name": "python"
    }
  },
  "cells": [
    {
      "cell_type": "markdown",
      "metadata": {
        "id": "view-in-github",
        "colab_type": "text"
      },
      "source": [
        "<a href=\"https://colab.research.google.com/github/daniel-usp/MBA-BIA-USP/blob/main/Aula_3_Dicion%C3%A1rios%2C_Fun%C3%A7%C3%B5es_e_An%C3%A1lise_de_Dados.ipynb\" target=\"_parent\"><img src=\"https://colab.research.google.com/assets/colab-badge.svg\" alt=\"Open In Colab\"/></a>"
      ]
    },
    {
      "cell_type": "markdown",
      "source": [
        "### Exercício 1: Filtragem de Vendas\n",
        "\n",
        "**Descrição**: Você tem uma lista de valores de vendas diárias e deseja filtrar apenas os dias em que as vendas foram superiores a 1000 unidades.\n",
        "\n",
        "**Lista de vendas diárias**:\n",
        "```python\n",
        "vendas_diarias = [1500, 900, 2000, 500, 1300, 700, 1700]\n"
      ],
      "metadata": {
        "id": "ZvyD4rKpg9II"
      }
    },
    {
      "cell_type": "code",
      "execution_count": null,
      "metadata": {
        "id": "xC_AqbA2g1x8"
      },
      "outputs": [],
      "source": [
        "vendas_diarias = [1500, 900, 2000, 500, 1300, 700, 1700]"
      ]
    },
    {
      "cell_type": "markdown",
      "source": [
        "### Exercício 2: Calculando Descontos\n",
        "\n",
        "**Descrição**: Você tem uma lista de preços de produtos e deseja aplicar um desconto de 10% a todos os produtos que custam mais de 50 unidades monetárias.\n",
        "\n",
        "**Lista de preços**:\n",
        "```python\n",
        "precos_produtos = [45, 55, 70, 30, 85, 40, 100]\n"
      ],
      "metadata": {
        "id": "watRyN0ohDvE"
      }
    },
    {
      "cell_type": "code",
      "source": [
        "precos_produtos = [45, 55, 70, 30, 85, 40, 100]"
      ],
      "metadata": {
        "id": "TUTLRuzDhcMV"
      },
      "execution_count": null,
      "outputs": []
    },
    {
      "cell_type": "markdown",
      "source": [
        "### Exercício 3: Classificação de Produtos\n",
        "\n",
        "**Descrição**: Você tem uma lista de quantidades de produtos vendidos e deseja classificar os produtos como 'Alta Venda' se a quantidade for maior que 100 unidades, 'Média Venda' se estiver entre 50 e 100 unidades, e 'Baixa Venda' se for menor que 50 unidades.\n",
        "\n",
        "**Lista de quantidades**:\n",
        "\n",
        "```python\n",
        "quantidades_vendidas = [120, 60, 30, 150, 90, 45, 75]\n",
        "```\n",
        "\n",
        "\n"
      ],
      "metadata": {
        "id": "xKfspwJCheVv"
      }
    },
    {
      "cell_type": "code",
      "source": [
        "quantidades_vendidas = [120, 60, 30, 150, 90, 45, 75]"
      ],
      "metadata": {
        "id": "IGbn7GtUhqiu"
      },
      "execution_count": null,
      "outputs": []
    },
    {
      "cell_type": "markdown",
      "source": [
        "### Exercício 4: Convertendo Valores de Moeda\n",
        "\n",
        "**Descrição**: Você tem uma lista de valores de transações em dólares e deseja convertê-los para euros, sabendo que a taxa de conversão é 1 dólar = 0.85 euros.\n",
        "\n",
        "**Lista de transações em dólares**:\n",
        "```python\n",
        "transacoes_dolares = [100, 150, 200, 50, 75, 300]\n",
        "```\n"
      ],
      "metadata": {
        "id": "WrbkkiiYiWho"
      }
    },
    {
      "cell_type": "code",
      "source": [
        "transacoes_dolares = [100, 150, 200, 50, 75, 300]"
      ],
      "metadata": {
        "id": "Q4e2vroGiZLC"
      },
      "execution_count": null,
      "outputs": []
    },
    {
      "cell_type": "markdown",
      "source": [
        "##Dicionários"
      ],
      "metadata": {
        "id": "YJE0RwG_l93_"
      }
    },
    {
      "cell_type": "markdown",
      "source": [
        "### Exercício 5: Atualizando Quantidades em Estoque\n",
        "\n",
        "**Descrição**: Você tem um dicionário com produtos e suas quantidades em estoque. Um novo carregamento de produtos chegou, e você precisa atualizar as quantidades no estoque.\n",
        "\n",
        "**Dicionário de estoque**:\n",
        "```python\n",
        "estoque = {'caneta': 50, 'caderno': 80, 'borracha': 30, 'lápis': 100}\n",
        "novo_carregamento = {'caneta': 20, 'caderno': 40, 'borracha': 10, 'lápis': 50}\n"
      ],
      "metadata": {
        "id": "ZEjITrT8l7Bc"
      }
    },
    {
      "cell_type": "markdown",
      "source": [
        "### Exercício 6: Verificando Produtos em Falta\n",
        "\n",
        "**Descrição**: Você tem um dicionário com produtos e suas quantidades em estoque. Você deseja verificar quais produtos estão com o estoque zerado.\n",
        "\n",
        "**Dicionário de estoque**:\n",
        "```python\n",
        "estoque = {'caneta': 0, 'caderno': 80, 'borracha': 0, 'lápis': 100}\n",
        "```"
      ],
      "metadata": {
        "id": "gPwpFWd_mInk"
      }
    },
    {
      "cell_type": "markdown",
      "source": [
        "### Exercício 7: Calculando o Valor Total do Estoque\n",
        "\n",
        "**Descrição**: Você tem um dicionário com produtos, suas quantidades em estoque e seus preços. Você deseja calcular o valor total do estoque.\n",
        "\n",
        "**Dicionário de estoque e preços**:\n",
        "```python\n",
        "estoque = {'caneta': 50, 'caderno': 80, 'borracha': 30, 'lápis': 100}\n",
        "precos = {'caneta': 1.5, 'caderno': 3.0, 'borracha': 0.5, 'lápis': 0.75}\n",
        "```"
      ],
      "metadata": {
        "id": "IFwU0tj9mO66"
      }
    },
    {
      "cell_type": "markdown",
      "source": [
        "### Exercício 8: Removendo Produtos do Estoque\n",
        "\n",
        "**Descrição**: Você tem um dicionário com produtos e suas quantidades em estoque. Alguns produtos foram descontinuados e precisam ser removidos do estoque.\n",
        "\n",
        "**Dicionário de estoque**:\n",
        "```python\n",
        "estoque = {'caneta': 50, 'caderno': 80, 'borracha': 30, 'lápis': 100}\n",
        "descontinuados = ['borracha', 'lápis']\n",
        "````\n"
      ],
      "metadata": {
        "id": "Z_ySZaPvmeBZ"
      }
    },
    {
      "cell_type": "markdown",
      "source": [
        "##Funções"
      ],
      "metadata": {
        "id": "NO1rwe6YKkZZ"
      }
    },
    {
      "cell_type": "markdown",
      "source": [
        "### Exercício 9: Calculando o Lucro\n",
        "\n",
        "**Descrição**: Você precisa calcular o lucro com base nas receitas e despesas fornecidas.\n",
        "\n",
        "**Função esperada**:\n",
        "```python\n",
        "def calcular_lucro(receita, despesa):\n",
        "    lucro = receita - despesa\n",
        "    return lucro\n",
        "\n",
        "# Teste a função\n",
        "receita = 5000\n",
        "despesa = 3000\n",
        "print(calcular_lucro(receita, despesa))\n"
      ],
      "metadata": {
        "id": "VQaYgTQ9K17_"
      }
    },
    {
      "cell_type": "markdown",
      "source": [
        "### Exercício 10: Calculando o Desconto\n",
        "\n",
        "**Descrição**: Você deseja calcular o preço final de um produto após aplicar um desconto percentual.\n",
        "\n",
        "**Função esperada**:\n",
        "```python\n",
        "def calcular_preco_com_desconto(preco, desconto_percentual):\n",
        "    desconto = preco * (desconto_percentual / 100)\n",
        "    preco_final = preco - desconto\n",
        "    return preco_final\n",
        "```\n",
        "\n"
      ],
      "metadata": {
        "id": "Z67yDzvbK8P-"
      }
    },
    {
      "cell_type": "code",
      "source": [
        "# Teste a função\n",
        "preco = 200\n",
        "desconto_percentual = 15"
      ],
      "metadata": {
        "id": "_6sgYGrumHyG"
      },
      "execution_count": null,
      "outputs": []
    },
    {
      "cell_type": "markdown",
      "source": [
        "### Exercício 11: Calculando a Comissão\n",
        "\n",
        "**Descrição**: Você precisa calcular a comissão de um vendedor com base em uma taxa de comissão percentual e o valor das vendas realizadas."
      ],
      "metadata": {
        "id": "db4c3JrZLXk9"
      }
    },
    {
      "cell_type": "code",
      "source": [
        "# Estruture a função\n",
        "vendas = 10000\n",
        "taxa_comissao = 5"
      ],
      "metadata": {
        "id": "vWbeW4u_l9Jf"
      },
      "execution_count": null,
      "outputs": []
    },
    {
      "cell_type": "markdown",
      "source": [
        "### Exercício 12: Convertendo Moedas\n",
        "\n",
        "**Descrição**: Você deseja converter um valor em dólares para euros com base em uma taxa de conversão fornecida.\n",
        "\n",
        "\n"
      ],
      "metadata": {
        "id": "T9wOPBGpLY-s"
      }
    },
    {
      "cell_type": "code",
      "source": [
        "# Estruture a função\n",
        "valor_dolar = 120\n",
        "taxa_conversao = 0.85"
      ],
      "metadata": {
        "id": "7b4rJ-I0LgCA"
      },
      "execution_count": null,
      "outputs": []
    }
  ]
}