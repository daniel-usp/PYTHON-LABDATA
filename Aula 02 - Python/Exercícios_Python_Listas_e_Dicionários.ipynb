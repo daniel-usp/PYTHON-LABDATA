{
  "nbformat": 4,
  "nbformat_minor": 0,
  "metadata": {
    "colab": {
      "provenance": [],
      "authorship_tag": "ABX9TyP3+Go2gu9r+wrtJPunOLse",
      "include_colab_link": true
    },
    "kernelspec": {
      "name": "python3",
      "display_name": "Python 3"
    },
    "language_info": {
      "name": "python"
    }
  },
  "cells": [
    {
      "cell_type": "markdown",
      "metadata": {
        "id": "view-in-github",
        "colab_type": "text"
      },
      "source": [
        "<a href=\"https://colab.research.google.com/github/daniel-usp/MBA-BIA-USP/blob/main/Exerc%C3%ADcios_Python_Listas_e_Dicion%C3%A1rios.ipynb\" target=\"_parent\"><img src=\"https://colab.research.google.com/assets/colab-badge.svg\" alt=\"Open In Colab\"/></a>"
      ]
    },
    {
      "cell_type": "markdown",
      "source": [
        "## Exercício 1: Análise de Vendas Mensais\n",
        "\n",
        "Sua empresa registrou as vendas mensais (em milhares de reais) de um determinado produto ao longo de um ano. Os valores são:\n",
        "\n",
        "```python\n",
        "vendas_mensais = [25, 30, 22, 35, 40, 38, 45, 50, 42, 36, 31, 28]\n",
        "```\n",
        "Utilizando listas, realize as seguintes tarefas:\n",
        "\n",
        "1. Calcule a média de vendas mensal ao longo do ano.\n",
        "2. Determine o mês com a maior venda e o valor dessa venda.\n",
        "3. Identifique os meses em que as vendas foram abaixo da média anual.\n",
        "\n",
        "\n",
        "\n",
        "\n",
        "\n"
      ],
      "metadata": {
        "id": "9zzQiaLXIZmj"
      }
    },
    {
      "cell_type": "markdown",
      "source": [
        "## Gabarito - Exercício 01"
      ],
      "metadata": {
        "id": "JP0Bwb_vFXil"
      }
    },
    {
      "cell_type": "code",
      "source": [
        "vendas_mensais = [25, 30, 22, 35, 40, 38, 45, 50, 42, 36, 31, 28]\n",
        "\n",
        "# 1. Cálculo da média\n",
        "media_anual = sum(vendas_mensais) / len(vendas_mensais)\n",
        "print(f'Média de vendas mensal: R$ {media_anual:.2f} mil')\n",
        "\n",
        "# 2. Mês com maior venda\n",
        "maior_venda = max(vendas_mensais)\n",
        "mes_maior_venda = vendas_mensais.index(maior_venda) + 1  # Adicionar 1 para corresponder ao mês\n",
        "print(f'Mês com maior venda: {mes_maior_venda} (R$ {maior_venda} mil)')\n",
        "\n",
        "# 3. Meses abaixo da média\n",
        "meses_abaixo_media = []\n",
        "for i, venda in enumerate(vendas_mensais):\n",
        "    if venda < media_anual:\n",
        "        meses_abaixo_media.append(i + 1)\n",
        "\n",
        "print(f'Meses com vendas abaixo da média: {meses_abaixo_media}')\n"
      ],
      "metadata": {
        "id": "7w62XCKo1s-o"
      },
      "execution_count": null,
      "outputs": []
    },
    {
      "cell_type": "markdown",
      "source": [
        "## Exercício 2 - Análise de Dados de Clientes com Dicionários\n",
        "\n",
        "**Cenário:**\n",
        "\n",
        "Você trabalha em uma empresa de marketing digital e precisa analisar os dados de alguns clientes. Você recebeu as seguintes informações sobre três clientes:\n",
        "\n",
        "*   **Cliente 1:**\n",
        "    *   Nome: Maria Silva\n",
        "    *   Email: maria.silva@email.com\n",
        "    *   Gasto Mensal: R$ 500,00\n",
        "\n",
        "*   **Cliente 2:**\n",
        "    *   Nome: João Santos\n",
        "    *   Email: joao.santos@email.com\n",
        "    *   Gasto Mensal: R$ 800,00\n",
        "\n",
        "*   **Cliente 3:**\n",
        "    *   Nome: Ana Oliveira\n",
        "    *   Email: ana.oliveira@email.com\n",
        "    *   Gasto Mensal: R$ 1200,00\n",
        "\n",
        "**Tarefa:**\n",
        "\n",
        "1.  Crie um dicionário para cada cliente, armazenando as informações de nome, email e gasto mensal.\n",
        "2.  Crie uma lista chamada `clientes` que contenha os três dicionários dos clientes.\n",
        "3.  Calcule o gasto total de todos os clientes.\n",
        "4.  Encontre o cliente com o maior gasto mensal e exiba seu nome e email.\n",
        "\n",
        "**Dicas:**\n",
        "\n",
        "*   Utilize a estrutura de dicionário: `{chave: valor}`.\n",
        "*   Utilize a estrutura de lista: `[item1, item2, item3]`.\n",
        "*   Utilize um laço `for` para percorrer a lista de clientes.\n",
        "*   Utilize a função `max()` para encontrar o maior valor.\n",
        "\n",
        "\n"
      ],
      "metadata": {
        "id": "f6ujQ403JQzj"
      }
    },
    {
      "cell_type": "markdown",
      "source": [
        "## Gabarito - Exercício 02"
      ],
      "metadata": {
        "id": "RNX4t81fJvDK"
      }
    },
    {
      "cell_type": "code",
      "source": [
        "# Criando os dicionários dos clientes\n",
        "cliente1 = {'nome': 'Maria Silva', 'email': 'maria.silva@email.com', 'gasto_mensal': 500.00}\n",
        "cliente2 = {'nome': 'João Santos', 'email': 'joao.santos@email.com', 'gasto_mensal': 800.00}\n",
        "cliente3 = {'nome': 'Ana Oliveira', 'email': 'ana.oliveira@email.com', 'gasto_mensal': 1200.00}\n",
        "\n",
        "# Criando a lista de clientes\n",
        "clientes = [cliente1, cliente2, cliente3]\n",
        "\n",
        "# Calculando o gasto total\n",
        "gasto_total = sum(cliente['gasto_mensal'] for cliente in clientes)\n",
        "print(f'Gasto total dos clientes: R$ {gasto_total:.2f}')\n",
        "\n",
        "# Encontrando o cliente com maior gasto\n",
        "cliente_maior_gasto = max(clientes, key=lambda cliente: cliente['gasto_mensal'])\n",
        "print(f'Cliente com maior gasto: {cliente_maior_gasto[\"nome\"]} ({cliente_maior_gasto[\"email\"]})')\n"
      ],
      "metadata": {
        "id": "o6aPK2dhJi7_"
      },
      "execution_count": null,
      "outputs": []
    }
  ]
}