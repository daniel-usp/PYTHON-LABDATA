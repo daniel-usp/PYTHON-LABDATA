{
  "nbformat": 4,
  "nbformat_minor": 0,
  "metadata": {
    "colab": {
      "provenance": [],
      "authorship_tag": "ABX9TyNdpQTN2jU+Xi4PeoWPZTVa",
      "include_colab_link": true
    },
    "kernelspec": {
      "name": "python3",
      "display_name": "Python 3"
    },
    "language_info": {
      "name": "python"
    }
  },
  "cells": [
    {
      "cell_type": "markdown",
      "metadata": {
        "id": "view-in-github",
        "colab_type": "text"
      },
      "source": [
        "<a href=\"https://colab.research.google.com/github/daniel-usp/MBA-BIA-USP/blob/main/Aula_02_Python.ipynb\" target=\"_parent\"><img src=\"https://colab.research.google.com/assets/colab-badge.svg\" alt=\"Open In Colab\"/></a>"
      ]
    },
    {
      "cell_type": "code",
      "execution_count": 4,
      "metadata": {
        "id": "RTnK3ZfzXW96",
        "colab": {
          "base_uri": "https://localhost:8080/"
        },
        "outputId": "dc2e11d6-cfcf-4354-e617-62e9358cac7b"
      },
      "outputs": [
        {
          "output_type": "stream",
          "name": "stdout",
          "text": [
            "6.6405\n"
          ]
        }
      ],
      "source": [
        "# Revisão da Aula 01 - O que é importante?\n",
        "\n",
        "preco_do_copinho = 6.99 #isto é preço do copinho\n",
        "desconto = 0.05 #Desconto de 10%\n",
        "\n",
        "preco_final = preco_do_copinho - preco_do_copinho * desconto\n",
        "\n",
        "print(preco_final)\n"
      ]
    },
    {
      "cell_type": "markdown",
      "source": [
        "## Estruturas Condicionais (if/else)"
      ],
      "metadata": {
        "id": "TmNy7pr0erFN"
      }
    },
    {
      "cell_type": "code",
      "source": [
        "# Um empresa necessita saber se ela bateu sua meta de\n",
        "# venda mensal de R$150.000\n",
        "\n",
        "#Variáveis de entrada\n",
        "venda_do_mes = 100000\n",
        "meta_de_venda = 150000\n",
        "\n",
        "#Condição (if/else)\n",
        "if (venda_do_mes >= meta_de_venda):\n",
        "  print(\"bateu a meta\")\n",
        "else:\n",
        "  print(\"não bateu a meta\")\n"
      ],
      "metadata": {
        "colab": {
          "base_uri": "https://localhost:8080/"
        },
        "id": "5uJm7ITveziV",
        "outputId": "fa2981e9-a37b-4c2f-dd2a-a88b0cacd0b6"
      },
      "execution_count": 6,
      "outputs": [
        {
          "output_type": "stream",
          "name": "stdout",
          "text": [
            "não bateu a meta\n"
          ]
        }
      ]
    },
    {
      "cell_type": "code",
      "source": [
        "# Solicita a idade do usuário\n",
        "idade = int(input(\"Por favor, insira sua idade: \"))\n",
        "\n",
        "# Verifica se a idade é maior ou igual a 18\n",
        "if idade >= 18:\n",
        "    print(\"Você pode beber.\")\n",
        "else:\n",
        "    print(\"Você não pode beber.\")\n"
      ],
      "metadata": {
        "colab": {
          "base_uri": "https://localhost:8080/"
        },
        "id": "ZiqIqzCWoKPI",
        "outputId": "c17be381-6b31-47eb-8c7f-2e7d3dfd1a77"
      },
      "execution_count": 8,
      "outputs": [
        {
          "output_type": "stream",
          "name": "stdout",
          "text": [
            "Por favor, insira sua idade: 16\n",
            "Você não pode beber.\n"
          ]
        }
      ]
    },
    {
      "cell_type": "markdown",
      "source": [
        "#Listas"
      ],
      "metadata": {
        "id": "kCXitlO0s8TM"
      }
    },
    {
      "cell_type": "code",
      "source": [
        "vendas = [10,4,15,22,23,30]\n",
        "\n",
        "vendas[:2] #Pegar os dois primeiros elementos\n",
        "\n",
        "vendas[:4] #Pegar os quatro primeiros\n",
        "\n",
        "vendas[2:] #Pegar os elementos a partir do terceiro\n",
        "\n",
        "vendas[2:5]\n",
        "\n",
        "soma_vendas_primeiro_trimestre = sum(vendas[:3])\n",
        "print(soma_vendas_primeiro_trimestre)\n",
        "\n",
        "soma_vendas_segundo_trimestre = sum(vendas[3:])\n",
        "print(soma_vendas_segundo_trimestre)\n"
      ],
      "metadata": {
        "colab": {
          "base_uri": "https://localhost:8080/"
        },
        "id": "vP44S3_Os93A",
        "outputId": "ba51fd38-32bd-4999-9fd4-2708185868c8"
      },
      "execution_count": 19,
      "outputs": [
        {
          "output_type": "stream",
          "name": "stdout",
          "text": [
            "29\n",
            "75\n"
          ]
        }
      ]
    },
    {
      "cell_type": "code",
      "source": [
        "numerador = 2\n",
        "denominador = 5\n",
        "\n",
        "if denominador != 0:\n",
        "    resultado = numerador / denominador\n",
        "    print(f\"Resultado: {resultado}\")\n",
        "else:\n",
        "    print(\"Erro: Divisão por zero não é permitida.\")\n"
      ],
      "metadata": {
        "colab": {
          "base_uri": "https://localhost:8080/"
        },
        "id": "iSdgHUOjxPZo",
        "outputId": "db56e3fc-b92e-45b4-9e84-615b404ae43c"
      },
      "execution_count": 22,
      "outputs": [
        {
          "output_type": "stream",
          "name": "stdout",
          "text": [
            "Resultado: 0.4\n"
          ]
        }
      ]
    },
    {
      "cell_type": "code",
      "source": [
        "# Lista de Vendas Anuais\n",
        "\n",
        "vendas_2023 = [10,22,23,34,35,36,\n",
        "               35,34,32,37,38,40]\n",
        "\n",
        "#Soma das Vendas Anuais\n",
        "sum(vendas_2023)\n",
        "\n",
        "#Média das Vendas Anuais\n",
        "sum(vendas_2023) / len(vendas_2023)\n",
        "\n",
        "#Soma das Vendas do primeiro semestre\n",
        "vendas_primeiro_semestre = vendas_2023[:6]\n",
        "print(\"primeiro\", sum(vendas_primeiro_semestre))\n",
        "\n",
        "#Soma das Vendas do segundo semestre\n",
        "vendas_segundo_semestre = vendas_2023[6:]\n",
        "print(\"segundo\", sum(vendas_segundo_semestre))"
      ],
      "metadata": {
        "colab": {
          "base_uri": "https://localhost:8080/"
        },
        "id": "mIhfdOvmyd0W",
        "outputId": "f12c572b-8cd6-42d8-bdef-843fa90a7b01"
      },
      "execution_count": 35,
      "outputs": [
        {
          "output_type": "stream",
          "name": "stdout",
          "text": [
            "primeiro 160\n",
            "segundo 216\n"
          ]
        }
      ]
    },
    {
      "cell_type": "code",
      "source": [
        "# Lista de Vendas Anuais\n",
        "vendas_2023 = [10, 22, 23, 34, 35, 36, 35, 34, 32, 37, 38, 40]\n",
        "\n",
        "# Encontrar a maior venda\n",
        "maior_venda = max(vendas_2023)\n",
        "\n",
        "# Imprimir a maior venda\n",
        "print(\"A maior venda que ocorreu em 2023 foi:\", maior_venda)\n"
      ],
      "metadata": {
        "colab": {
          "base_uri": "https://localhost:8080/"
        },
        "id": "geXmyHJ71o2p",
        "outputId": "3fc77399-2d67-4649-89be-b9e2ee74b93b"
      },
      "execution_count": 36,
      "outputs": [
        {
          "output_type": "stream",
          "name": "stdout",
          "text": [
            "A maior venda que ocorreu em 2023 foi: 40\n"
          ]
        }
      ]
    },
    {
      "cell_type": "code",
      "source": [
        "localizacao = input(\"Digite sua localização (ex: SP, RJ, MG): \")\n",
        "\n",
        "if localizacao == \"SP\":\n",
        "  print(\"Você receberá um cupom de desconto de 10% em sua próxima compra!\")\n",
        "elif localizacao == \"RJ\":\n",
        "  print(\"Você receberá frete grátis em sua próxima compra!\")\n",
        "elif localizacao == \"MG\":\n",
        "  print(\"Você receberá um brinde especial em sua próxima compra!\")\n",
        "else:\n",
        "  print(\"Infelizmente, não temos nenhuma campanha ativa para sua região no momento.\")"
      ],
      "metadata": {
        "colab": {
          "base_uri": "https://localhost:8080/"
        },
        "id": "5uJTr4Nd2rO-",
        "outputId": "207091c4-44e1-445e-d25c-c335b5ab6ed3"
      },
      "execution_count": 39,
      "outputs": [
        {
          "output_type": "stream",
          "name": "stdout",
          "text": [
            "Digite sua localização (ex: SP, RJ, MG): SC\n",
            "Infelizmente, não temos nenhuma campanha ativa para sua região no momento.\n"
          ]
        }
      ]
    },
    {
      "cell_type": "code",
      "source": [
        "#Comando for\n",
        "\n",
        "#Toda lista é um iterável\n",
        "lucros = [10,-5,-10,10,20] #Lista dos Lucros da Hamburgueria\n",
        "\n",
        "#Pegar um a um\n",
        "\n",
        "'''\n",
        "status = [] #Status será uma lista\n",
        "for lucro in lucros:\n",
        "  if lucro > 0:\n",
        "    status.append(\"Mês com lucro\")\n",
        "  else:\n",
        "    status.append(\"Mês com prejuízo\")\n",
        "status\n",
        "'''\n",
        "\n",
        "#List Comprehension\n",
        "status = [\"Mês com lucro\" if lucro > 0 else \"Mês com prejuízo\"\n",
        "          for lucro in lucros]\n",
        "status"
      ],
      "metadata": {
        "colab": {
          "base_uri": "https://localhost:8080/"
        },
        "id": "he_LPS3G4ouA",
        "outputId": "76dedfbb-d44c-49ad-f566-3cead3ef5bb5"
      },
      "execution_count": 53,
      "outputs": [
        {
          "output_type": "execute_result",
          "data": {
            "text/plain": [
              "['Mês com lucro',\n",
              " 'Mês com prejuízo',\n",
              " 'Mês com prejuízo',\n",
              " 'Mês com lucro',\n",
              " 'Mês com lucro']"
            ]
          },
          "metadata": {},
          "execution_count": 53
        }
      ]
    },
    {
      "cell_type": "code",
      "source": [
        "\n",
        "\n",
        "status = [] #Status será uma lista\n",
        "for lucro in lucros:\n",
        "  if lucro > 0:\n",
        "    status.append(\"Mês com lucro\")\n",
        "  else:\n",
        "    status.append(\"Mês com prejuízo\")\n",
        "status\n"
      ],
      "metadata": {
        "colab": {
          "base_uri": "https://localhost:8080/"
        },
        "id": "acatNaSa9rF_",
        "outputId": "eb86a448-b18b-4bde-8454-77d0ca3c70a5"
      },
      "execution_count": 54,
      "outputs": [
        {
          "output_type": "execute_result",
          "data": {
            "text/plain": [
              "['Mês com lucro',\n",
              " 'Mês com prejuízo',\n",
              " 'Mês com prejuízo',\n",
              " 'Mês com lucro',\n",
              " 'Mês com lucro']"
            ]
          },
          "metadata": {},
          "execution_count": 54
        }
      ]
    },
    {
      "cell_type": "code",
      "source": [
        "vendas = [10,20,30,50]\n",
        "\n",
        "#Somar vendas\n",
        "sum(vendas)\n",
        "\n",
        "vendas.append(60)\n",
        "print(vendas)\n",
        "#Inserir o número 60 no final das Vendas\n",
        "vendas.append(60)\n",
        "print(vendas)\n",
        "\n",
        "#Inserir o número 5 no início da lista de Vendas\n",
        "vendas.insert(0,5)\n",
        "print(vendas)\n",
        "\n",
        "#Remover o número 10 da lista de Vendas\n",
        "vendas.remove(10)\n",
        "print(vendas)\n",
        "\n"
      ],
      "metadata": {
        "colab": {
          "base_uri": "https://localhost:8080/"
        },
        "id": "GCe2VurI7ZSN",
        "outputId": "23d52bfd-587f-43a8-cc81-30cb29885093"
      },
      "execution_count": 50,
      "outputs": [
        {
          "output_type": "stream",
          "name": "stdout",
          "text": [
            "[10, 20, 30, 50, 60]\n",
            "[5, 10, 20, 30, 50, 60]\n",
            "[5, 20, 30, 50, 60]\n"
          ]
        }
      ]
    }
  ]
}